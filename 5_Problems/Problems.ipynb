{
 "cells": [
  {
   "cell_type": "markdown",
   "metadata": {},
   "source": [
    "## Codes that didn't work properly"
   ]
  },
  {
   "cell_type": "code",
   "execution_count": null,
   "metadata": {
    "vscode": {
     "languageId": "plaintext"
    }
   },
   "outputs": [],
   "source": [
    "# define genre mapping\n",
    "# used regular expression \\b (word boundaries) for precise genre replacement to avoid partial matches \n",
    "genre_mapping = {\n",
    "    r'\\bc-pop\\b': 'mandopop',   \n",
    "    r'\\bmainland chinese pop\\b': 'mandopop'\n",
    "}"
   ]
  },
  {
   "cell_type": "markdown",
   "metadata": {},
   "source": [
    "## Data Collection Limits\n",
    "There are over 15% of tracks that didn't have a genre from Spotify."
   ]
  }
 ],
 "metadata": {
  "language_info": {
   "name": "python"
  }
 },
 "nbformat": 4,
 "nbformat_minor": 2
}
