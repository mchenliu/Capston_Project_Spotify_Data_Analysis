{
 "cells": [
  {
   "cell_type": "markdown",
   "metadata": {},
   "source": [
    "## Codes that didn't work properly"
   ]
  },
  {
   "cell_type": "code",
   "execution_count": null,
   "metadata": {
    "vscode": {
     "languageId": "plaintext"
    }
   },
   "outputs": [],
   "source": [
    "# define genre mapping\n",
    "# used regular expression \\b (word boundaries) for precise genre replacement to avoid partial matches \n",
    "genre_mapping = {\n",
    "    r'\\bc-pop\\b': 'mandopop',   \n",
    "    r'\\bmainland chinese pop\\b': 'mandopop'\n",
    "}"
   ]
  }
 ],
 "metadata": {
  "language_info": {
   "name": "python"
  }
 },
 "nbformat": 4,
 "nbformat_minor": 2
}
