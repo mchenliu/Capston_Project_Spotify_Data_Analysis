{
 "cells": [
  {
   "cell_type": "markdown",
   "metadata": {},
   "source": [
    "### 1.  What are the 20 most played tracks and artists? 🎶\n"
   ]
  },
  {
   "cell_type": "code",
   "execution_count": null,
   "metadata": {},
   "outputs": [],
   "source": [
    "# import library\n",
    "import pandas as pd\n",
    "\n",
    "# load the data\n",
    "music_track_df = pd.read_csv('./Cleaned_Data/Music_Streaming_History.csv')\n",
    "podcast_episodes_df = pd.read_csv('./Cleaned_Data/Podcast_Streaming_History.csv')\n",
    "\n",
    "top_artists = music_track_df['artist_name'].value_counts().head(20)\n",
    "\n",
    "#format artist counts with thousand seperator\n",
    "top_artists = top_artists.apply(lambda x: f'{x:,}')\n",
    "# reset the index\n",
    "top_artists = top_artists.reset_index()\n",
    "\n",
    "\n",
    "print(top_artists.to_string(index=False))\n",
    "\n",
    "# group by artist name and sum the minutes played\n",
    "top_artists_by_minutes = round(music_track_df.groupby('artist_name')['minutes_played'].sum(),2)\n",
    "\n",
    "# sort the results in descending order and select the top 20\n",
    "top_artists_by_minutes = top_artists_by_minutes.sort_values(ascending=False).head(20)\n",
    "\n",
    "# format minutes with thousand seperator\n",
    "top_artists_by_minutes = top_artists_by_minutes.apply(lambda x: f'{x:,}')\n",
    "\n",
    "# reset the index\n",
    "top_artists_by_minutes = top_artists_by_minutes.reset_index()\n",
    "\n",
    "# print the result without the index\n",
    "print(top_artists_by_minutes.to_string(index=False))\n"
   ]
  },
  {
   "cell_type": "markdown",
   "metadata": {},
   "source": [
    "2.  How do listening habits vary by time of day? 🕒\n",
    "3.  How diverse are the genres of music artists? 🌟\n",
    "4.  Which tracks were frequently skipped?　⏭️\n",
    "5.  What are the top podcast episodes 🎙️  \n",
    "6.  Based on the past data, will podcasts occupy most listening time or tracks? :headphones:\n",
    "7.  Based on past data, who are the most played artists and tracks for 2025?\" :question:  "
   ]
  }
 ],
 "metadata": {
  "language_info": {
   "name": "python"
  }
 },
 "nbformat": 4,
 "nbformat_minor": 2
}
