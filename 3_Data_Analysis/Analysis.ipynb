{
 "cells": [
  {
   "cell_type": "markdown",
   "metadata": {},
   "source": [
    "### 1.  What are the 20 most played tracks and artists? 🎶\n"
   ]
  },
  {
   "cell_type": "code",
   "execution_count": null,
   "metadata": {},
   "outputs": [],
   "source": [
    "# import library\n",
    "import pandas as pd\n",
    "\n",
    "# load the data\n",
    "music_track_df = pd.read_csv('./Cleaned_Data/Music_Streaming_History.csv')\n",
    "podcast_episodes_df = pd.read_csv('./Cleaned_Data/Podcast_Streaming_History.csv')\n",
    "\n",
    "top_artists = music_track_df['artist_name'].value_counts().head(20)\n",
    "\n",
    "#format artist counts with thousand seperator\n",
    "top_artists = top_artists.apply(lambda x: f'{x:,}')\n",
    "# reset the index\n",
    "top_artists = top_artists.reset_index()\n",
    "\n",
    "\n",
    "print(top_artists.to_string(index=False))\n",
    "\n",
    "# group by artist name and sum the minutes played\n",
    "top_artists_by_minutes = round(music_track_df.groupby('artist_name')['minutes_played'].sum(),2)\n",
    "\n",
    "# sort the results in descending order and select the top 20\n",
    "top_artists_by_minutes = top_artists_by_minutes.sort_values(ascending=False).head(20)\n",
    "\n",
    "# format minutes with thousand seperator\n",
    "top_artists_by_minutes = top_artists_by_minutes.apply(lambda x: f'{x:,}')\n",
    "\n",
    "# reset the index\n",
    "top_artists_by_minutes = top_artists_by_minutes.reset_index()\n",
    "\n",
    "# print the result without the index\n",
    "print(top_artists_by_minutes.to_string(index=False))\n"
   ]
  },
  {
   "cell_type": "markdown",
   "metadata": {},
   "source": [
    "*Top 20 Artists by Counts:*\n",
    "| artist_name | count |\n",
    "|-------------|-------|\n",
    "|Hebe Tien| 14,441|\n",
    "|S.H.E| 12,149| \n",
    "|JJ Lin| 11,464|\n",
    "|Yoga Lin|  8,739|\n",
    "|Leehom Wang | 8,312|\n",
    "| 許嵩 | 6,570|\n",
    "| G.E.M.| 5,692|\n",
    "| Jay Chou |5,590|\n",
    "|sodagreen | 5,478|  \n",
    "|OneRepublic | 5,259|\n",
    "|Joker Xue | 4,665| \n",
    "|路嘉欣 | 4,045|\n",
    "| Eason Chan | 3,560|\n",
    "   Aska Yang | 3,554|  \n",
    "  |Steve Chou | 2,891|   \n",
    "|Taylor Swift | 2,505|\n",
    " 許光漢 | 2,504|\n",
    " Niall Horan | 2,465|\n",
    "Charlie Puth | 2,429|\n",
    " Joanna Wang | 2,111|\n",
    "\n",
    "\n",
    "*Top 20 Artists by Minutes Played:*\n",
    "|artist_name |minutes_played|\n",
    "|------------|--------------|\n",
    "| Hebe Tien     | 36,692.95|\n",
    "|JJ Lin   |    36,191.6|\n",
    "| S.H.E  |    27,279.01|\n",
    "|Yoga Lin|      23,260.59|\n",
    "| Leehom Wang   |   19,066.72|\n",
    "|許嵩 |      16,147.8|\n",
    "|G.E.M. |     14,951.88|\n",
    "|Jay Chou |     14,117.79|\n",
    "|路嘉欣   |   11,822.62 |\n",
    "| Joker Xue |     11,655.04|\n",
    "|sodagreen |     11,652.2|\n",
    "| OneRepublic|       9,960.75|\n",
    "|Aska Yang |      9,256.75|\n",
    "|許光漢 |       7,875.6|\n",
    "|Steve Chou  |     6,341.16|\n",
    "|Eason Chan|       4,659.56|\n",
    "|吳青峰 |      4,103.88|\n",
    "|Niall Horan|       3,849.25|\n",
    "|Taylor Swift  |     3,679.96|\n",
    "|Charlie Puth |      3,542.84|"
   ]
  },
  {
   "cell_type": "markdown",
   "metadata": {},
   "source": [
    "2.  How do listening habits vary by time of day? 🕒\n",
    "3.  How diverse are the genres of music artists? 🌟\n",
    "4.  Which tracks were frequently skipped?　⏭️\n",
    "5.  What are the top podcast episodes 🎙️  \n",
    "6.  Based on the past data, will podcasts occupy most listening time or tracks? :headphones:\n",
    "7.  Based on past data, who are the most played artists and tracks for 2025?\" :question:  "
   ]
  }
 ],
 "metadata": {
  "language_info": {
   "name": "python"
  }
 },
 "nbformat": 4,
 "nbformat_minor": 2
}
