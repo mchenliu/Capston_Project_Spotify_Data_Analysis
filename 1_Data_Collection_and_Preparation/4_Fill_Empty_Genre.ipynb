{
 "cells": [
  {
   "cell_type": "markdown",
   "metadata": {},
   "source": [
    "## Fill Empty Genres"
   ]
  },
  {
   "cell_type": "code",
   "execution_count": 1,
   "metadata": {},
   "outputs": [],
   "source": [
    "# import libraries\n",
    "import pandas as pd"
   ]
  },
  {
   "cell_type": "code",
   "execution_count": 12,
   "metadata": {},
   "outputs": [],
   "source": [
    "# access file \n",
    "file_path = '../Cleaned_Data/Artist_Genre_List.csv'\n",
    "artist_genre_df = pd.read_csv(file_path)\n",
    "filter_genre_df = artist_genre_df.copy()"
   ]
  },
  {
   "cell_type": "markdown",
   "metadata": {},
   "source": [
    "### Filter rows with valid genre data"
   ]
  },
  {
   "cell_type": "code",
   "execution_count": 13,
   "metadata": {},
   "outputs": [],
   "source": [
    "# drop rows where genre is 'no genres found'\n",
    "filter_genre_df = artist_genre_df[artist_genre_df['genres'] != 'no genres found']\n"
   ]
  },
  {
   "cell_type": "code",
   "execution_count": 17,
   "metadata": {},
   "outputs": [
    {
     "name": "stdout",
     "output_type": "stream",
     "text": [
      "2713\n"
     ]
    }
   ],
   "source": [
    "# reset index\n",
    "filter_genre_df = filter_genre_df.reset_index(drop=True)\n",
    "print(len(filter_genre_df))"
   ]
  },
  {
   "cell_type": "markdown",
   "metadata": {},
   "source": [
    "### Add filled genre data"
   ]
  },
  {
   "cell_type": "code",
   "execution_count": 18,
   "metadata": {},
   "outputs": [],
   "source": [
    "# append filled genres\n",
    "# file paths\n",
    "genres_filled_file_path = '../Cleaned_Data/Empty_Genres_Filled.csv'\n",
    "# load dataframes\n",
    "genre_filled_df = pd.read_csv(genres_filled_file_path)\n",
    "\n",
    "# combine both DataFrames\n",
    "combined_df = pd.concat([filter_genre_df,genre_filled_df], ignore_index=True)\n",
    "\n",
    "# remove duplicates based on artist_name and genres\n",
    "combined_df=combined_df.drop_duplicates(subset=['artist_name','genres']).reset_index(drop=True)\n",
    "\n",
    "\n"
   ]
  },
  {
   "cell_type": "markdown",
   "metadata": {},
   "source": [
    "### Save as new file"
   ]
  },
  {
   "cell_type": "code",
   "execution_count": 19,
   "metadata": {},
   "outputs": [
    {
     "ename": "",
     "evalue": "",
     "output_type": "error",
     "traceback": [
      "\u001b[1;31mThe Kernel crashed while executing code in the current cell or a previous cell. \n",
      "\u001b[1;31mPlease review the code in the cell(s) to identify a possible cause of the failure. \n",
      "\u001b[1;31mClick <a href='https://aka.ms/vscodeJupyterKernelCrash'>here</a> for more info. \n",
      "\u001b[1;31mView Jupyter <a href='command:jupyter.viewOutput'>log</a> for further details."
     ]
    }
   ],
   "source": [
    "output_path = '../Cleaned_Data/Completed_Artist_Genre_List.csv'\n",
    "combined_df.to_csv(output_path, index=False, encoding='utf-8-sig')"
   ]
  }
 ],
 "metadata": {
  "kernelspec": {
   "display_name": "base",
   "language": "python",
   "name": "python3"
  },
  "language_info": {
   "codemirror_mode": {
    "name": "ipython",
    "version": 3
   },
   "file_extension": ".py",
   "mimetype": "text/x-python",
   "name": "python",
   "nbconvert_exporter": "python",
   "pygments_lexer": "ipython3",
   "version": "3.12.3"
  }
 },
 "nbformat": 4,
 "nbformat_minor": 2
}
