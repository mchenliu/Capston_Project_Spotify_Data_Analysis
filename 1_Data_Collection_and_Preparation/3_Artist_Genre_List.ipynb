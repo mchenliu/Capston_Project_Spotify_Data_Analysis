{
 "cells": [
  {
   "cell_type": "markdown",
   "metadata": {},
   "source": [
    "## Find Artist Genres\n",
    "#### Import Spotipy module"
   ]
  },
  {
   "cell_type": "code",
   "execution_count": 2,
   "metadata": {},
   "outputs": [
    {
     "ename": "ModuleNotFoundError",
     "evalue": "No module named 'spotipy'",
     "output_type": "error",
     "traceback": [
      "\u001b[1;31m---------------------------------------------------------------------------\u001b[0m",
      "\u001b[1;31mModuleNotFoundError\u001b[0m                       Traceback (most recent call last)",
      "Cell \u001b[1;32mIn[2], line 2\u001b[0m\n\u001b[0;32m      1\u001b[0m \u001b[38;5;66;03m# find artist genres\u001b[39;00m\n\u001b[1;32m----> 2\u001b[0m \u001b[38;5;28;01mfrom\u001b[39;00m \u001b[38;5;21;01mspotipy\u001b[39;00m\u001b[38;5;21;01m.\u001b[39;00m\u001b[38;5;21;01moauth2\u001b[39;00m \u001b[38;5;28;01mimport\u001b[39;00m SpotifyClientCredentials\n\u001b[0;32m      3\u001b[0m \u001b[38;5;28;01mimport\u001b[39;00m \u001b[38;5;21;01mspotipy\u001b[39;00m\n\u001b[0;32m      4\u001b[0m \u001b[38;5;28;01mimport\u001b[39;00m \u001b[38;5;21;01mos\u001b[39;00m\n",
      "\u001b[1;31mModuleNotFoundError\u001b[0m: No module named 'spotipy'"
     ]
    }
   ],
   "source": [
    "# find artist genres\n",
    "from spotipy.oauth2 import SpotifyClientCredentials\n",
    "import spotipy\n",
    "import os\n",
    "from dotenv import load_dotenv"
   ]
  },
  {
   "cell_type": "markdown",
   "metadata": {},
   "source": [
    "#### Store Credentials in .env file"
   ]
  },
  {
   "cell_type": "code",
   "execution_count": null,
   "metadata": {},
   "outputs": [],
   "source": [
    "# enter spotify credentials\n",
    "load_dotenv()\n",
    "client_id = os.getenv(\"SPOTIFY_CLIENT_ID\")\n",
    "client_secret = os.getenv(\"SPOTIFY_CLIENT_SECRET\")"
   ]
  },
  {
   "cell_type": "markdown",
   "metadata": {},
   "source": [
    "#### Access Spotify API"
   ]
  },
  {
   "cell_type": "code",
   "execution_count": null,
   "metadata": {},
   "outputs": [],
   "source": [
    "# authenticate with Spotify\n",
    "client_credentials_manager = SpotifyClientCredentials(client_id=client_id, client_secret=client_secret)\n",
    "sp = spotipy.Spotify(client_credentials_manager=client_credentials_manager)\n"
   ]
  },
  {
   "cell_type": "markdown",
   "metadata": {},
   "source": [
    "#### Loop Through Artist List and Add Genre to List"
   ]
  },
  {
   "cell_type": "code",
   "execution_count": null,
   "metadata": {},
   "outputs": [],
   "source": [
    "# read artist csv\n",
    "input_path = './Cleaned_Data/Artist_List.csv'\n",
    "artist_df = pd.read_csv(input_path)\n",
    "artist_names = artist_df['artist_name'].tolist()\n",
    "\n",
    "# create a list to store results\n",
    "artist_genre =[]\n",
    "\n",
    "# find genres for each artist\n",
    "for artist_name in artist_names:\n",
    "    try:\n",
    "        # search for artist on Spotify\n",
    "        results = sp.search(q=artist_name,type='artist', limit =1)\n",
    "        if results['artists']['items']:\n",
    "            artist = results['artists']['items'][0]\n",
    "            genres = ', '.join(artist['genres']) if artist['genres'] else 'No genres found'\n",
    "        else:\n",
    "            genres = 'Not Found'\n",
    "    except Exception as e:\n",
    "        genres = f'Error: {e}'\n",
    "    artist_genre.append(genres)\n",
    "\n",
    "# create DataFrame with the results\n",
    "artist_genre_data = pd.DataFrame({\n",
    "    'artist_name': artist_names,\n",
    "    'genres': artist_genre\n",
    "})"
   ]
  },
  {
   "cell_type": "markdown",
   "metadata": {},
   "source": [
    "#### Normalize Genre Labels"
   ]
  },
  {
   "cell_type": "code",
   "execution_count": null,
   "metadata": {},
   "outputs": [],
   "source": [
    "# clean the genres\n",
    "# normalize genres\n",
    "artist_genre_data['genres'] = artist_genre_data['genres'].str.lower()\n",
    "artist_genre_data['genres'] = artist_genre_data['genres'].str.strip()\n",
    "# define genre mapping\n",
    "# used regular expression \\b (word boundaries) for precise genre replacement to avoid partial matches \n",
    "genre_mapping = {\n",
    "    r'\\bc-pop\\b': 'mandopop',\n",
    "    r'\\bclassic mandopop\\b': 'mandopop',\n",
    "    r'\\bmando pop\\b': 'mandopop',\n",
    "    r'\\bmandarin pop\\b': 'mandopop',\n",
    "    r'\\bchinese pop\\b': 'mandopop',\n",
    "    r'\\btaiwanese pop\\b': 'mandopop',\n",
    "    r'\\bmainland chinese pop\\b': 'mandopop',\n",
    "    r'\\btaiwan pop\\b': 'mandopop',\n",
    "    r'\\bchinese jazz\\b': 'jazz',\n",
    "    r'\\bpop dance\\b': 'dance pop'\n",
    "}\n",
    "\n",
    "\n",
    "# replace substrings in genres\n",
    "for old_genre, new_genre in genre_mapping.items():\n",
    "    artist_genre_data['genres'] = artist_genre_data['genres'].str.replace(old_genre,new_genre,regex=True) #regex=True ensures \\b to function\n",
    "\n",
    "# remove duplicates in genres\n",
    "artist_genre_data['genres'] = artist_genre_data['genres'].str.split(', ').apply(lambda x: ', '.join(sorted(set(x))))\n",
    "\n",
    "artist_df['genre'] = artist_genre"
   ]
  },
  {
   "cell_type": "markdown",
   "metadata": {},
   "source": [
    "#### Create new CSV and Save"
   ]
  },
  {
   "cell_type": "code",
   "execution_count": null,
   "metadata": {},
   "outputs": [],
   "source": [
    "# save to csv\n",
    "updated_path = './Cleaned_Data/Artist_Genre_List.csv'\n",
    "artist_df.to_csv(updated_path, index= False, encoding= 'utf-8-sig')"
   ]
  }
 ],
 "metadata": {
  "kernelspec": {
   "display_name": "base",
   "language": "python",
   "name": "python3"
  },
  "language_info": {
   "codemirror_mode": {
    "name": "ipython",
    "version": 3
   },
   "file_extension": ".py",
   "mimetype": "text/x-python",
   "name": "python",
   "nbconvert_exporter": "python",
   "pygments_lexer": "ipython3",
   "version": "3.12.7"
  }
 },
 "nbformat": 4,
 "nbformat_minor": 2
}
