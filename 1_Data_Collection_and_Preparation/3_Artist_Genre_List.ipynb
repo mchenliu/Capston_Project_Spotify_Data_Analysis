{
 "cells": [
  {
   "cell_type": "markdown",
   "metadata": {},
   "source": [
    "## Find Artist Genres"
   ]
  },
  {
   "cell_type": "markdown",
   "metadata": {},
   "source": [
    "## Create List of Artists"
   ]
  },
  {
   "cell_type": "code",
   "execution_count": 119,
   "metadata": {},
   "outputs": [],
   "source": [
    "import pandas as pd\n",
    "\n",
    "# load the cleaned music tracks data from the VS Code project directory\n",
    "file_path = '../Cleaned_Data/Music_Streaming_History.csv'\n",
    "df = pd.read_csv(file_path)\n",
    "\n",
    "# find unique artists\n",
    "unique_artists = df['artist_name'].dropna().unique()\n",
    "\n",
    "# convert to a DataFrame\n",
    "unique_artists_df = pd.DataFrame(unique_artists, columns=['artist_name'])\n",
    "\n",
    "# save the unique artists to a new CSV\n",
    "output_path = '../Cleaned_Data/Artist_List.csv'\n",
    "unique_artists_df.to_csv(output_path, index=False, encoding='utf-8-sig')"
   ]
  },
  {
   "cell_type": "markdown",
   "metadata": {},
   "source": [
    "#### Import Spotipy module"
   ]
  },
  {
   "cell_type": "code",
   "execution_count": 120,
   "metadata": {},
   "outputs": [],
   "source": [
    "# find artist genres\n",
    "from spotipy.oauth2 import SpotifyClientCredentials\n",
    "import spotipy\n",
    "import os\n",
    "from dotenv import load_dotenv"
   ]
  },
  {
   "cell_type": "markdown",
   "metadata": {},
   "source": [
    "#### Store Credentials in .env file"
   ]
  },
  {
   "cell_type": "code",
   "execution_count": 121,
   "metadata": {},
   "outputs": [],
   "source": [
    "# enter spotify credentials\n",
    "load_dotenv()\n",
    "client_id = os.getenv(\"SPOTIFY_CLIENT_ID\")\n",
    "client_secret = os.getenv(\"SPOTIFY_CLIENT_SECRET\")\n",
    "client_credentials_manager = SpotifyClientCredentials(client_id=client_id, client_secret=client_secret)\n",
    "sp = spotipy.Spotify(client_credentials_manager=client_credentials_manager)"
   ]
  },
  {
   "cell_type": "markdown",
   "metadata": {},
   "source": [
    "#### Loop Through Artist List and Add Genre to List"
   ]
  },
  {
   "cell_type": "code",
   "execution_count": 122,
   "metadata": {},
   "outputs": [],
   "source": [
    "# read artist csv\n",
    "input_path = '../Cleaned_Data/Artist_List.csv'\n",
    "artist_df = pd.read_csv(input_path)\n",
    "artist_names = artist_df['artist_name'].tolist()\n",
    "\n",
    "# create a list to store results\n",
    "artist_genre =[]\n",
    "\n",
    "# find genres for each artist\n",
    "for artist_name in artist_names:\n",
    "    try:\n",
    "        # search for artist on Spotify\n",
    "        results = sp.search(q=artist_name,type='artist', limit =1)\n",
    "        if results['artists']['items']:\n",
    "            artist = results['artists']['items'][0]\n",
    "            genres = ', '.join(artist['genres']) if artist['genres'] else 'No genres found'\n",
    "        else:\n",
    "            genres = 'Not Found'\n",
    "    except Exception as e:\n",
    "        genres = f'Error: {e}'\n",
    "    artist_genre.append(genres)\n",
    "\n",
    "# create DataFrame with the results\n",
    "artist_genre_data = pd.DataFrame({\n",
    "    'artist_name': artist_names,\n",
    "    'genres': artist_genre\n",
    "})"
   ]
  },
  {
   "cell_type": "markdown",
   "metadata": {},
   "source": [
    "#### Normalize Genre Labels"
   ]
  },
  {
   "cell_type": "code",
   "execution_count": 140,
   "metadata": {},
   "outputs": [],
   "source": [
    "# clean the genres\n",
    "# normalize genres\n",
    "artist_genre_data['genres'] =artist_genre_data['genres'].str.lower().str.strip()\n",
    "\n",
    "# define genre mapping\n",
    "# used regular expression \\b (word boundaries) for precise genre replacement to avoid partial matches \n",
    "genre_mapping = {\n",
    "    r'\\bc-pop\\b': 'mandopop',\n",
    "    r'\\bclassic mandopop\\b': 'mandopop',\n",
    "    r'\\bmando pop\\b': 'mandopop',\n",
    "    r'\\bmandarin pop\\b': 'mandopop',\n",
    "    r'\\bchinese pop\\b': 'mandopop',\n",
    "    r'\\btaiwanese pop\\b': 'mandopop',\n",
    "    r'\\bmainland chinese pop\\b': 'mandopop',\n",
    "    r'\\btaiwan pop\\b': 'mandopop',\n",
    "    r'\\bpop mainland mandopop\\b': 'mandopop',\n",
    "    r'\\bmandopop, taiwan singer-songwriter\\b': 'mandopop',\n",
    "    r'\\bmalaysian mandopop, mandopop\\b': 'mandopop',\n",
    "    r'\\bmalaysian mandopop\\b': 'mandopop',\n",
    "    r'\\bsingaporean mandopop\\b': 'mandopop',\n",
    "    r'\\bzhongguo feng\\b': 'mandopop',\n",
    "    r'\\bmainland mandopop\\b': 'mandopop',\n",
    "    r'\\bsingaporean mandopop\\b': 'mandopop',\n",
    "    r'\\bsingaporean mandopop\\b': 'mandopop'\n",
    "}"
   ]
  },
  {
   "cell_type": "code",
   "execution_count": null,
   "metadata": {},
   "outputs": [],
   "source": [
    "# apply genre replacements\n",
    "for old_genre, new_genre in genre_mapping.items():\n",
    "    artist_genre_data['genres'] = artist_genre_data['genres'].str.replace(old_genre, new_genre, regex=True)\n",
    "\n",
    "# Remove duplicates in genres\n",
    "artist_genre_data['genres'] = artist_genre_data['genres'].str.split(', ').apply(lambda x: ', '.join(sorted(set(x))))"
   ]
  },
  {
   "cell_type": "code",
   "execution_count": null,
   "metadata": {},
   "outputs": [],
   "source": [
    "#  normalize the 'genres' column\n",
    "artist_genre_data['genres'] = artist_genre_data['genres'].str.lower().str.strip()"
   ]
  },
  {
   "cell_type": "code",
   "execution_count": null,
   "metadata": {},
   "outputs": [],
   "source": [
    "#merge genres with the original DataFrame\n",
    "artist_genre_data= artist_genre_data.merge(artist_genre_data, on='artist_name', how='left')"
   ]
  },
  {
   "cell_type": "code",
   "execution_count": null,
   "metadata": {},
   "outputs": [],
   "source": [
    "# save the updated data to overwrite the original file\n",
    "artist_genre_data.to_csv('./Cleaned_Data/Artist_Genre_List.csv', index=False, encoding='utf-8-sig')"
   ]
  },
  {
   "cell_type": "code",
   "execution_count": null,
   "metadata": {},
   "outputs": [],
   "source": [
    "file_path = './Cleaned_Data/Artist_Genre_List.csv'\n",
    "artist_genre_data = pd.read_csv(file_path)\n",
    "\n",
    "# drop old column and rename the new column\n",
    "artist_genre_data.drop(columns=['genres_x'], inplace=True)\n",
    "\n",
    "#update column name\n",
    "artist_genre_data.rename(columns={'genres_y':'genres'},inplace=True)\n",
    "\n",
    "# save the updated data to overwrite the original file\n",
    "artist_genre_data.to_csv('./Cleaned_Data/Artist_Genre_List.csv', index=False, encoding='utf-8-sig')"
   ]
  }
 ],
 "metadata": {
  "kernelspec": {
   "display_name": "my_env",
   "language": "python",
   "name": "python3"
  },
  "language_info": {
   "codemirror_mode": {
    "name": "ipython",
    "version": 3
   },
   "file_extension": ".py",
   "mimetype": "text/x-python",
   "name": "python",
   "nbconvert_exporter": "python",
   "pygments_lexer": "ipython3",
   "version": "3.11.11"
  }
 },
 "nbformat": 4,
 "nbformat_minor": 2
}
