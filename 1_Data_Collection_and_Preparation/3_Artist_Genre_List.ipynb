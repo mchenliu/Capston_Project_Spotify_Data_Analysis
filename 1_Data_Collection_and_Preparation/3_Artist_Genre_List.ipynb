{
 "cells": [
  {
   "cell_type": "markdown",
   "metadata": {},
   "source": [
    "## Find Artist Genres\n",
    "#### Import Spotipy module"
   ]
  },
  {
   "cell_type": "code",
   "execution_count": 1,
   "metadata": {},
   "outputs": [],
   "source": [
    "# find artist genres\n",
    "from spotipy.oauth2 import SpotifyClientCredentials\n",
    "import spotipy\n",
    "import os\n",
    "from dotenv import load_dotenv"
   ]
  },
  {
   "cell_type": "markdown",
   "metadata": {},
   "source": [
    "#### Store Credentials in .env file"
   ]
  },
  {
   "cell_type": "code",
   "execution_count": 2,
   "metadata": {},
   "outputs": [],
   "source": [
    "# enter spotify credentials\n",
    "load_dotenv()\n",
    "client_id = os.getenv(\"SPOTIFY_CLIENT_ID\")\n",
    "client_secret = os.getenv(\"SPOTIFY_CLIENT_SECRET\")"
   ]
  },
  {
   "cell_type": "markdown",
   "metadata": {},
   "source": [
    "#### Access Spotify API"
   ]
  },
  {
   "cell_type": "code",
   "execution_count": 3,
   "metadata": {},
   "outputs": [
    {
     "ename": "SpotifyOauthError",
     "evalue": "No client_id. Pass it or set a SPOTIPY_CLIENT_ID environment variable.",
     "output_type": "error",
     "traceback": [
      "\u001b[1;31m---------------------------------------------------------------------------\u001b[0m",
      "\u001b[1;31mSpotifyOauthError\u001b[0m                         Traceback (most recent call last)",
      "Cell \u001b[1;32mIn[3], line 2\u001b[0m\n\u001b[0;32m      1\u001b[0m \u001b[38;5;66;03m# authenticate with Spotify\u001b[39;00m\n\u001b[1;32m----> 2\u001b[0m client_credentials_manager \u001b[38;5;241m=\u001b[39m SpotifyClientCredentials(client_id\u001b[38;5;241m=\u001b[39mclient_id, client_secret\u001b[38;5;241m=\u001b[39mclient_secret)\n\u001b[0;32m      3\u001b[0m sp \u001b[38;5;241m=\u001b[39m spotipy\u001b[38;5;241m.\u001b[39mSpotify(client_credentials_manager\u001b[38;5;241m=\u001b[39mclient_credentials_manager)\n",
      "File \u001b[1;32mc:\\Users\\Mei\\anaconda3\\Lib\\site-packages\\spotipy\\oauth2.py:170\u001b[0m, in \u001b[0;36mSpotifyClientCredentials.__init__\u001b[1;34m(self, client_id, client_secret, proxies, requests_session, requests_timeout, cache_handler)\u001b[0m\n\u001b[0;32m    141\u001b[0m \u001b[38;5;250m\u001b[39m\u001b[38;5;124;03m\"\"\"\u001b[39;00m\n\u001b[0;32m    142\u001b[0m \u001b[38;5;124;03mCreates a Client Credentials Flow Manager.\u001b[39;00m\n\u001b[0;32m    143\u001b[0m \n\u001b[1;32m   (...)\u001b[0m\n\u001b[0;32m    165\u001b[0m \n\u001b[0;32m    166\u001b[0m \u001b[38;5;124;03m\"\"\"\u001b[39;00m\n\u001b[0;32m    168\u001b[0m \u001b[38;5;28msuper\u001b[39m()\u001b[38;5;241m.\u001b[39m\u001b[38;5;21m__init__\u001b[39m(requests_session)\n\u001b[1;32m--> 170\u001b[0m \u001b[38;5;28mself\u001b[39m\u001b[38;5;241m.\u001b[39mclient_id \u001b[38;5;241m=\u001b[39m client_id\n\u001b[0;32m    171\u001b[0m \u001b[38;5;28mself\u001b[39m\u001b[38;5;241m.\u001b[39mclient_secret \u001b[38;5;241m=\u001b[39m client_secret\n\u001b[0;32m    172\u001b[0m \u001b[38;5;28mself\u001b[39m\u001b[38;5;241m.\u001b[39mproxies \u001b[38;5;241m=\u001b[39m proxies\n",
      "File \u001b[1;32mc:\\Users\\Mei\\anaconda3\\Lib\\site-packages\\spotipy\\oauth2.py:65\u001b[0m, in \u001b[0;36mSpotifyAuthBase.client_id\u001b[1;34m(self, val)\u001b[0m\n\u001b[0;32m     63\u001b[0m \u001b[38;5;129m@client_id\u001b[39m\u001b[38;5;241m.\u001b[39msetter\n\u001b[0;32m     64\u001b[0m \u001b[38;5;28;01mdef\u001b[39;00m \u001b[38;5;21mclient_id\u001b[39m(\u001b[38;5;28mself\u001b[39m, val):\n\u001b[1;32m---> 65\u001b[0m     \u001b[38;5;28mself\u001b[39m\u001b[38;5;241m.\u001b[39m_client_id \u001b[38;5;241m=\u001b[39m _ensure_value(val, \u001b[38;5;124m\"\u001b[39m\u001b[38;5;124mclient_id\u001b[39m\u001b[38;5;124m\"\u001b[39m)\n",
      "File \u001b[1;32mc:\\Users\\Mei\\anaconda3\\Lib\\site-packages\\spotipy\\oauth2.py:41\u001b[0m, in \u001b[0;36m_ensure_value\u001b[1;34m(value, env_key)\u001b[0m\n\u001b[0;32m     39\u001b[0m \u001b[38;5;28;01mif\u001b[39;00m _val \u001b[38;5;129;01mis\u001b[39;00m \u001b[38;5;28;01mNone\u001b[39;00m:\n\u001b[0;32m     40\u001b[0m     msg \u001b[38;5;241m=\u001b[39m \u001b[38;5;124mf\u001b[39m\u001b[38;5;124m\"\u001b[39m\u001b[38;5;124mNo \u001b[39m\u001b[38;5;132;01m{\u001b[39;00menv_key\u001b[38;5;132;01m}\u001b[39;00m\u001b[38;5;124m. Pass it or set a \u001b[39m\u001b[38;5;132;01m{\u001b[39;00menv_val\u001b[38;5;132;01m}\u001b[39;00m\u001b[38;5;124m environment variable.\u001b[39m\u001b[38;5;124m\"\u001b[39m\n\u001b[1;32m---> 41\u001b[0m     \u001b[38;5;28;01mraise\u001b[39;00m SpotifyOauthError(msg)\n\u001b[0;32m     42\u001b[0m \u001b[38;5;28;01mreturn\u001b[39;00m _val\n",
      "\u001b[1;31mSpotifyOauthError\u001b[0m: No client_id. Pass it or set a SPOTIPY_CLIENT_ID environment variable."
     ]
    }
   ],
   "source": [
    "# authenticate with Spotify\n",
    "client_credentials_manager = SpotifyClientCredentials(client_id=client_id, client_secret=client_secret)\n",
    "sp = spotipy.Spotify(client_credentials_manager=client_credentials_manager)\n"
   ]
  },
  {
   "cell_type": "markdown",
   "metadata": {},
   "source": [
    "#### Loop Through Artist List and Add Genre to List"
   ]
  },
  {
   "cell_type": "code",
   "execution_count": null,
   "metadata": {},
   "outputs": [],
   "source": [
    "# read artist csv\n",
    "input_path = './Cleaned_Data/Artist_List.csv'\n",
    "artist_df = pd.read_csv(input_path)\n",
    "artist_names = artist_df['artist_name'].tolist()\n",
    "\n",
    "# create a list to store results\n",
    "artist_genre =[]\n",
    "\n",
    "# find genres for each artist\n",
    "for artist_name in artist_names:\n",
    "    try:\n",
    "        # search for artist on Spotify\n",
    "        results = sp.search(q=artist_name,type='artist', limit =1)\n",
    "        if results['artists']['items']:\n",
    "            artist = results['artists']['items'][0]\n",
    "            genres = ', '.join(artist['genres']) if artist['genres'] else 'No genres found'\n",
    "        else:\n",
    "            genres = 'Not Found'\n",
    "    except Exception as e:\n",
    "        genres = f'Error: {e}'\n",
    "    artist_genre.append(genres)\n",
    "\n",
    "# create DataFrame with the results\n",
    "artist_genre_data = pd.DataFrame({\n",
    "    'artist_name': artist_names,\n",
    "    'genres': artist_genre\n",
    "})"
   ]
  },
  {
   "cell_type": "markdown",
   "metadata": {},
   "source": [
    "#### Normalize Genre Labels"
   ]
  },
  {
   "cell_type": "code",
   "execution_count": null,
   "metadata": {},
   "outputs": [],
   "source": [
    "# clean the genres\n",
    "# normalize genres\n",
    "artist_genre_data['genres'] = artist_genre_data['genres'].str.lower()\n",
    "artist_genre_data['genres'] = artist_genre_data['genres'].str.strip()\n",
    "# define genre mapping\n",
    "# used regular expression \\b (word boundaries) for precise genre replacement to avoid partial matches \n",
    "genre_mapping = {\n",
    "    r'\\bc-pop\\b': 'mandopop',\n",
    "    r'\\bclassic mandopop\\b': 'mandopop',\n",
    "    r'\\bmando pop\\b': 'mandopop',\n",
    "    r'\\bmandarin pop\\b': 'mandopop',\n",
    "    r'\\bchinese pop\\b': 'mandopop',\n",
    "    r'\\btaiwanese pop\\b': 'mandopop',\n",
    "    r'\\bmainland chinese pop\\b': 'mandopop',\n",
    "    r'\\btaiwan pop\\b': 'mandopop',\n",
    "    r'\\bchinese jazz\\b': 'jazz',\n",
    "    r'\\bpop dance\\b': 'dance pop'\n",
    "}\n",
    "\n",
    "\n",
    "# replace substrings in genres\n",
    "for old_genre, new_genre in genre_mapping.items():\n",
    "    artist_genre_data['genres'] = artist_genre_data['genres'].str.replace(old_genre,new_genre,regex=True) #regex=True ensures \\b to function\n",
    "\n",
    "# remove duplicates in genres\n",
    "artist_genre_data['genres'] = artist_genre_data['genres'].str.split(', ').apply(lambda x: ', '.join(sorted(set(x))))\n",
    "\n",
    "artist_df['genre'] = artist_genre"
   ]
  },
  {
   "cell_type": "markdown",
   "metadata": {},
   "source": [
    "#### Create new CSV and Save"
   ]
  },
  {
   "cell_type": "code",
   "execution_count": null,
   "metadata": {},
   "outputs": [],
   "source": [
    "# save to csv\n",
    "updated_path = './Cleaned_Data/Artist_Genre_List.csv'\n",
    "artist_df.to_csv(updated_path, index= False, encoding= 'utf-8-sig')"
   ]
  }
 ],
 "metadata": {
  "kernelspec": {
   "display_name": "base",
   "language": "python",
   "name": "python3"
  },
  "language_info": {
   "codemirror_mode": {
    "name": "ipython",
    "version": 3
   },
   "file_extension": ".py",
   "mimetype": "text/x-python",
   "name": "python",
   "nbconvert_exporter": "python",
   "pygments_lexer": "ipython3",
   "version": "3.12.3"
  }
 },
 "nbformat": 4,
 "nbformat_minor": 2
}
