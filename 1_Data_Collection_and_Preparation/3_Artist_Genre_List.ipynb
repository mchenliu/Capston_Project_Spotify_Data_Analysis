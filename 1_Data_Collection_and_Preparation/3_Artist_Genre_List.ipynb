{
 "cells": [
  {
   "cell_type": "markdown",
   "metadata": {},
   "source": [
    "## Find Artist Genres"
   ]
  },
  {
   "cell_type": "markdown",
   "metadata": {},
   "source": [
    "## Create List of Artists"
   ]
  },
  {
   "cell_type": "code",
   "execution_count": 1,
   "metadata": {},
   "outputs": [],
   "source": [
    "import pandas as pd\n",
    "\n",
    "# load the cleaned music tracks data from the VS Code project directory\n",
    "file_path = '../Cleaned_Data/Music_Streaming_History.csv'\n",
    "df = pd.read_csv(file_path)\n",
    "\n",
    "# find unique artists\n",
    "unique_artists = df['artist_name'].dropna().unique()\n",
    "\n",
    "# convert to a DataFrame\n",
    "unique_artists_df = pd.DataFrame(unique_artists, columns=['artist_name'])\n",
    "\n",
    "# save the unique artists to a new CSV\n",
    "output_path = '../Cleaned_Data/Artist_List.csv'\n",
    "unique_artists_df.to_csv(output_path, index=False, encoding='utf-8-sig')"
   ]
  },
  {
   "cell_type": "markdown",
   "metadata": {},
   "source": [
    "#### Import Spotipy module"
   ]
  },
  {
   "cell_type": "code",
   "execution_count": 2,
   "metadata": {},
   "outputs": [],
   "source": [
    "# find artist genres\n",
    "from spotipy.oauth2 import SpotifyClientCredentials\n",
    "import spotipy\n",
    "import os\n",
    "from dotenv import load_dotenv\n",
    "import pandas as pd"
   ]
  },
  {
   "cell_type": "markdown",
   "metadata": {},
   "source": [
    "#### Store Credentials in .env file"
   ]
  },
  {
   "cell_type": "code",
   "execution_count": 121,
   "metadata": {},
   "outputs": [],
   "source": [
    "# enter spotify credentials\n",
    "load_dotenv()\n",
    "client_id = os.getenv(\"SPOTIFY_CLIENT_ID\")\n",
    "client_secret = os.getenv(\"SPOTIFY_CLIENT_SECRET\")\n",
    "client_credentials_manager = SpotifyClientCredentials(client_id=client_id, client_secret=client_secret)\n",
    "sp = spotipy.Spotify(client_credentials_manager=client_credentials_manager)"
   ]
  },
  {
   "cell_type": "markdown",
   "metadata": {},
   "source": [
    "#### Loop Through Artist List and Add Genre to List"
   ]
  },
  {
   "cell_type": "code",
   "execution_count": 3,
   "metadata": {},
   "outputs": [],
   "source": [
    "# read artist csv\n",
    "input_path = '../Cleaned_Data/Artist_List.csv'\n",
    "artist_df = pd.read_csv(input_path)\n",
    "artist_names = artist_df['artist_name'].tolist()\n",
    "\n",
    "# create a list to store results\n",
    "artist_genre =[]\n",
    "\n",
    "# find genres for each artist\n",
    "for artist_name in artist_names:\n",
    "    try:\n",
    "        # search for artist on Spotify\n",
    "        results = sp.search(q=artist_name,type='artist', limit =1)\n",
    "        if results['artists']['items']:\n",
    "            artist = results['artists']['items'][0]\n",
    "            genres = ', '.join(artist['genres']) if artist['genres'] else 'No genres found'\n",
    "        else:\n",
    "            genres = 'Not Found'\n",
    "    except Exception as e:\n",
    "        genres = f'Error: {e}'\n",
    "    artist_genre.append(genres)\n",
    "\n",
    "# create DataFrame with the results\n",
    "artist_genre_data = pd.DataFrame({\n",
    "    'artist_name': artist_names,\n",
    "    'genres': artist_genre\n",
    "})"
   ]
  },
  {
   "cell_type": "code",
   "execution_count": 95,
   "metadata": {},
   "outputs": [],
   "source": [
    "# save the data as new file\n",
    "artist_genre_data.to_csv('../Cleaned_Data/Artist_Genre_List.csv', index=False, encoding='utf-8-sig')"
   ]
  },
  {
   "cell_type": "markdown",
   "metadata": {},
   "source": [
    "#### Normalize Genre Labels"
   ]
  },
  {
   "cell_type": "code",
   "execution_count": 149,
   "metadata": {},
   "outputs": [],
   "source": [
    "file_path = '../Cleaned_Data/Artist_Genre_List.csv'\n",
    "artist_genre_data = pd.read_csv(file_path)"
   ]
  },
  {
   "cell_type": "markdown",
   "metadata": {},
   "source": [
    "### Clean the genres"
   ]
  },
  {
   "cell_type": "code",
   "execution_count": 150,
   "metadata": {},
   "outputs": [],
   "source": [
    "# define genre mapping\n",
    "# used regular expression \\b (word boundaries) for precise genre replacement to avoid partial matches \n",
    "# define genre mapping\n",
    "# used regular expression \\b (word boundaries) for precise genre replacement to avoid partial matches \n",
    "genre_mapping = {\n",
    "    r'\\bc-pop\\b': 'mandopop',\n",
    "    r'\\bclassic mandopop\\b': 'mandopop',\n",
    "    r'\\bmando pop\\b': 'mandopop',\n",
    "    r'\\bmandarin pop\\b': 'mandopop',\n",
    "    r'\\bchinese pop\\b': 'mandopop',\n",
    "    r'\\btaiwanese pop\\b': 'mandopop',\n",
    "    r'\\bmainland chinese pop\\b': 'mandopop',\n",
    "    r'\\btaiwan pop\\b': 'mandopop',\n",
    "    r'\\bpop mainland mandopop\\b': 'mandopop',\n",
    "    r'\\bmandopop, taiwan singer-songwriter\\b': 'mandopop',\n",
    "    r'\\bmalaysian mandopop, mandopop\\b': 'mandopop',\n",
    "    r'\\bmalaysian mandopop\\b': 'mandopop',\n",
    "    r'\\bsingaporean mandopop\\b': 'mandopop',\n",
    "    r'\\bzhongguo feng\\b': 'mandopop',\n",
    "    r'\\bmainland mandopop\\b': 'mandopop',\n",
    "    r'\\bsingaporean mandopop\\b': 'mandopop',\n",
    "    r'\\bsingaporean mandopop\\b': 'mandopop',\n",
    "    r'\\bdance pop\\b': 'pop',\n",
    "    r'\\bchinese reggae\\b': 'reggae',\n",
    "    r'\\breggae flow\\b': 'reggae',\n",
    "    r'\\breggae colombiano\\b': 'reggae',\n",
    "    r'\\breggae rock\\b': 'reggae',\n",
    "    r'\\bkorean pop\\b': 'k-pop',\n",
    "    r'\\bpop r&b\\b': 'r&b',\n",
    "    r'\\bcontemporary r&b\\b': 'r&b',\n",
    "    r'\\bcanadian contemporary r&b\\b': 'r&b',\n",
    "    r'\\bkorean r&b\\b': 'r&b',\n",
    "    r'\\bchinese r&b\\b': 'r&b',\n",
    "    r'\\bchill r&b\\b': 'r&b',\n",
    "    r'\\buk contemporary r&b\\b': 'r&b',\n",
    "    r'\\bdark r&b\\b': 'r&b',\n",
    "    r'\\bboy band,contemporary r&b\\b': 'r&b',\n",
    "    r'\\bindie r&b\\b': 'r&b',\n",
    "    r'\\bbedroom r&b\\b': 'r&b',\n",
    "    r'\\bcanadian r&b\\b': 'r&b',\n",
    "    r'\\buk r&b\\b': 'r&b',\n",
    "    r'\\bhouse\\b': 'edm',\n",
    "    r'\\bprogressive house\\b': 'edm',\n",
    "    r'\\bfilter house\\b': 'edm',\n",
    "    r'\\bswedish tropical house\\b': 'edm',\n",
    "    r'\\bchill house\\b': 'edm',\n",
    "    r'\\btropical house\\b': 'edm',\n",
    "    r'\\bdutch house\\b': 'edm',\n",
    "    r'\\bjazz house\\b': 'edm',\n",
    "    r'\\bnordic house\\b': 'edm',\n",
    "    r'\\bstutter house\\b': 'edm',\n",
    "    r'\\btech house\\b': 'edm',\n",
    "    r'\\bgerman house\\b': 'edm',\n",
    "    r'\\bg-house\\b': 'edm',\n",
    "    r'\\bpop rap\\b': 'rap',\n",
    "    r'\\btrap\\b': 'hip hop',\n",
    "    r'\\bpost-teen pop\\b': 'pop',\n",
    "    r'\\bpost-teen pop\\b': 'pop',\n",
    "    r'\\bviral pop\\b': 'pop',\n",
    "    r'\\bmelodic rap\\b': 'rap'\n",
    "    \n",
    "}\n",
    "\n",
    "\n",
    "# apply genre replacements\n",
    "for old_genre, new_genre in genre_mapping.items():\n",
    "    artist_genre_data['genres'] = artist_genre_data['genres'].str.replace(old_genre, new_genre, regex=True)\n"
   ]
  },
  {
   "cell_type": "code",
   "execution_count": null,
   "metadata": {},
   "outputs": [],
   "source": [
    "# apply genre replacements\n",
    "for old_genre, new_genre in genre_mapping.items():\n",
    "    artist_genre_data['genres'] = artist_genre_data['genres'].str.replace(old_genre, new_genre, regex=True)"
   ]
  },
  {
   "cell_type": "code",
   "execution_count": 151,
   "metadata": {},
   "outputs": [],
   "source": [
    "#  normalize the 'genres' column\n",
    "artist_genre_data['genres'] = artist_genre_data['genres'].str.lower().str.strip()"
   ]
  },
  {
   "cell_type": "code",
   "execution_count": 152,
   "metadata": {},
   "outputs": [],
   "source": [
    "# Remove duplicates in genres\n",
    "artist_genre_data['genres'] = artist_genre_data['genres'].str.split(',').apply(lambda x:','.join(sorted(set(x))))"
   ]
  },
  {
   "cell_type": "code",
   "execution_count": null,
   "metadata": {},
   "outputs": [],
   "source": [
    "# split genres into list\n",
    "artist_genre_data['genres'] = artist_genre_data['genres'].str.split(',')\n",
    "\n",
    "# explode the DataFrame to one genre per row\n",
    "exploded_data = artist_genre_data.explode('genres')\n",
    "\n",
    "# drop duplicate rows\n",
    "exploded_data = exploded_data.drop_duplicates(subset=['artist_name','genres'])\n",
    "\n",
    "# format DataFrame\n",
    "formatted_data = exploded_data.reset_index(drop=True)\n",
    "formatted_data['genres'] = formatted_data['genres'].str.strip()\n",
    "\n",
    "# save the updated data\n",
    "formatted_data.to_csv('./Cleaned_Data/Artist_Genre_List.csv', index=False, encoding='utf-8-sig')"
   ]
  }
 ],
 "metadata": {
  "kernelspec": {
   "display_name": "base",
   "language": "python",
   "name": "python3"
  },
  "language_info": {
   "codemirror_mode": {
    "name": "ipython",
    "version": 3
   },
   "file_extension": ".py",
   "mimetype": "text/x-python",
   "name": "python",
   "nbconvert_exporter": "python",
   "pygments_lexer": "ipython3",
   "version": "3.12.3"
  }
 },
 "nbformat": 4,
 "nbformat_minor": 2
}
