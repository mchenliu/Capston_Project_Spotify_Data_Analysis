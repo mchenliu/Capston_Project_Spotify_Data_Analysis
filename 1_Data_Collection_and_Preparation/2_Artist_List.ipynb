{
 "cells": [
  {
   "cell_type": "markdown",
   "metadata": {},
   "source": [
    "## Create List of Artists"
   ]
  },
  {
   "cell_type": "code",
   "execution_count": 12,
   "metadata": {},
   "outputs": [],
   "source": [
    "import pandas as pd\n",
    "\n",
    "# load the cleaned music tracks data from the VS Code project directory\n",
    "file_path = '../Cleaned_Data/Music_Streaming_History.csv'\n",
    "df = pd.read_csv(file_path)\n",
    "\n",
    "# find unique artists\n",
    "unique_artists = df['artist_name'].dropna().unique()\n",
    "\n",
    "# convert to a DataFrame\n",
    "unique_artists_df = pd.DataFrame(unique_artists, columns=['artist_name'])\n",
    "\n",
    "# save the unique artists to a new CSV\n",
    "output_path = '../Cleaned_Data/Artist_List.csv'\n",
    "unique_artists_df.to_csv(output_path, index=False, encoding='utf-8-sig')"
   ]
  }
 ],
 "metadata": {
  "kernelspec": {
   "display_name": "base",
   "language": "python",
   "name": "python3"
  },
  "language_info": {
   "codemirror_mode": {
    "name": "ipython",
    "version": 3
   },
   "file_extension": ".py",
   "mimetype": "text/x-python",
   "name": "python",
   "nbconvert_exporter": "python",
   "pygments_lexer": "ipython3",
   "version": "3.12.7"
  }
 },
 "nbformat": 4,
 "nbformat_minor": 2
}
