{
 "cells": [
  {
   "cell_type": "markdown",
   "metadata": {},
   "source": [
    "# Exploratory Data Analysis on Arist Genres\n",
    "### EDA with Visuals\n",
    "#### 1. Import Libraries and Load Cleaned Data"
   ]
  },
  {
   "cell_type": "code",
   "execution_count": null,
   "metadata": {},
   "outputs": [],
   "source": [
    "# EDA on genre\n",
    "# import library\n",
    "import pandas as pd\n",
    "from matplotlib import pyplot as plt\n",
    "import seaborn as sns\n",
    "\n",
    "# load the cleaned data\n",
    "artist_genre_df = pd.read_csv('./Cleaned_Data/Artist_Genre_List.csv')"
   ]
  },
  {
   "cell_type": "markdown",
   "metadata": {},
   "source": [
    "#### 2. Clean Data and Understand Data Structure"
   ]
  },
  {
   "cell_type": "code",
   "execution_count": null,
   "metadata": {},
   "outputs": [],
   "source": [
    "# split multiple-genres\n",
    "artist_genre_df['genres_split'] = artist_genre_df['genres'].str.split(', ')\n",
    "genre_exploded = artist_genre_df.explode('genres_split').rename(columns={'genres_split':'genre'})\n",
    "\n",
    "# check the first few rows\n",
    "print(artist_genre_df.head())\n",
    "\n",
    "# check column types, null counts and summary stats of numeric columns \n",
    "# music tracks\n",
    "print(artist_genre_df.info()) \n",
    "print(artist_genre_df.describe())"
   ]
  },
  {
   "cell_type": "markdown",
   "metadata": {},
   "source": [
    "#### 3. Visualize Top 10 Genres"
   ]
  },
  {
   "cell_type": "code",
   "execution_count": null,
   "metadata": {},
   "outputs": [],
   "source": [
    "# count genre occurances\n",
    "genre_count = genre_cleaned['genre'].value_counts()\n",
    "print(genre_count)\n",
    "\n",
    "# identify top 10 genres\n",
    "top_genre = genre_count.head(10)\n",
    "print(top_genre)\n",
    "\n",
    "# select top 10 genres and sort in descending order\n",
    "genre_count_sorted = genre_count.sort_values(ascending=False).head(10)\n",
    "\n",
    "# create bar plot with seaborn\n",
    "sns.set(style='darkgrid')\n",
    "plt.figure(figsize = (30,20))\n",
    "sns.barplot(\n",
    "    x=genre_count_sorted.values,\n",
    "    y=genre_count_sorted.index,\n",
    "    palette= 'Blues_r'\n",
    ")\n",
    "\n",
    "# add title and labels\n",
    "plt.title('Top 10 Genres', fontsize = 40)\n",
    "plt.xlabel('Number of Artists')\n",
    "plt.ylabel(None)\n",
    "plt.show()\n",
    "\n",
    "# create bar chart\n",
    "labels = top_genre.index\n",
    "sizes = top_genre.values\n",
    "\n",
    "plt.figure(figsize=30,20))\n",
    "plt.pie(\n",
    "    sizes,\n",
    "    labels= labels,\n",
    "    # format percentages with 1 decimal place\n",
    "    autopct='%1.1f%%',\n",
    "    # rotate the first slice to start at 140 degrees for better visuals\n",
    "    startangle=140,\n",
    "    colors=sns.color_palette('Blues_r', n_colors=len(labels))\n",
    ")\n",
    "\n",
    "plt.title('Top 10 Genres Distribution', fontsize = 40)\n",
    "plt.ylabel(None)\n",
    "plt.show()"
   ]
  },
  {
   "cell_type": "markdown",
   "metadata": {},
   "source": [
    "![Top_genre_bar](//Images/Top_Genre_Bar.png)\n",
    "![Top_genre_pie](/Images/Top_Genre_Pie.png)"
   ]
  }
 ],
 "metadata": {
  "language_info": {
   "name": "python"
  }
 },
 "nbformat": 4,
 "nbformat_minor": 2
}
