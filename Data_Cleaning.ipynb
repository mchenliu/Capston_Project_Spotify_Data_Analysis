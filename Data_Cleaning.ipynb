{
 "cells": [
  {
   "cell_type": "markdown",
   "id": "f8c8ab63",
   "metadata": {},
   "source": [
    "# Data Cleaning and Intro\n",
    "## Goal\n",
    "1.\n",
    "2.\n",
    "\n",
    "## Final Deliverables\n",
    "1. Create Jupyter Notebookss (showcasing core skills in Python).\n",
    "2. Create a summary page (via README.md) to capture my findings.\n",
    "3. Share this project via GitHub & LinkedIn.\n",
    "\n",
    "## Question to Answer\n",
    "1.\n",
    "2.\n",
    "\n",
    "## Date Cleaning"
   ]
  },
  {
   "cell_type": "code",
   "execution_count": null,
   "id": "48e2df8a",
   "metadata": {},
   "outputs": [],
   "source": [
    "# import libraries\n",
    "import json\n",
    "import pandas as pd"
   ]
  },
  {
   "cell_type": "code",
   "execution_count": null,
   "id": "866ca029",
   "metadata": {},
   "outputs": [],
   "source": [
    "# list of JSON file paths\n",
    "file_paths = [\n",
    "    './Raw Data_Spotify Extended Streaming History/Streaming_History_Audio_2020-2021_5.json',\n",
    "    './Raw Data_Spotify Extended Streaming History/Streaming_History_Audio_2020_3.json',\n",
    "    './Raw Data_Spotify Extended Streaming History/Streaming_History_Audio_2020_4.json',\n",
    "    './Raw Data_Spotify Extended Streaming History/Streaming_History_Audio_2021-2022_6.json',\n",
    "    './Raw Data_Spotify Extended Streaming History/Streaming_History_Audio_2022-2023_7.json',\n",
    "    './Raw Data_Spotify Extended Streaming History/Streaming_History_Audio_2023_8.json',\n",
    "    './Raw Data_Spotify Extended Streaming History/Streaming_History_Audio_2023-2024_9.json',\n",
    "    './Raw Data_Spotify Extended Streaming History/Streaming_History_Audio_2018-2019_0.json',\n",
    "    './Raw Data_Spotify Extended Streaming History/Streaming_History_Audio_2019-2020_2.json',\n",
    "    './Raw Data_Spotify Extended Streaming History/Streaming_History_Audio_2019_1.json'\n",
    "]"
   ]
  },
  {
   "cell_type": "code",
   "execution_count": null,
   "id": "eba5ab21",
   "metadata": {},
   "outputs": [],
   "source": [
    "# data cleaning\n",
    "\n",
    "# load the JSON data from file using UTF-8 encoding\n",
    "dataframes = [pd.read_json(fp, encoding='utf-8') for fp in file_paths]\n",
    "\n",
    "\n",
    "# convert JSON data to a DataFrame\n",
    "df = pd.concat(dataframes, ignore_index=True)\n",
    "\n",
    "# rename columns\n",
    "df.rename(columns={'ts': 'date_time', 'master_metadata_track_name': 'track_name', 'conn_country' : 'country', 'master_metadata_album_artist_name': 'artist_name', 'master_metadata_album_album_name': 'album_name'}, inplace=True)\n",
    "\n",
    "# convert timestamp column to datetime\n",
    "df['date_time'] = pd.to_datetime(df['date_time'])\n",
    "\n",
    "# extract useful time-related columns\n",
    "df['date'] = df['date_time'].dt.date\n",
    "\n",
    "\n",
    "# remove playtime is null\n",
    "df = df[df['ms_played'] > 0]\n",
    "\n",
    "# add a new column to convert ms_played to minutes played\n",
    "df['minutes_played'] = df['ms_played'] / 60000\n",
    "\n",
    "# standardize boolean columns (e.g., shuffle)\n",
    "df['shuffle'] = df['shuffle'].astype(bool)\n",
    "\n",
    "# normalize text columns\n",
    "df['track_name'] = df['track_name'].str.strip()\n",
    "df['artist_name'] = df['artist_name'].str.strip()\n",
    "df['album_name'] = df['album_name'].str.strip()\n",
    "df['episode_name'] = df['episode_name'].str.strip()\n",
    "df['episode_show_name'] = df['episode_show_name'].str.strip()\n",
    "\n",
    "# filter data into music tracks and podcast episodes\n",
    "music_tracks_df = df[df['track_name'].notna()]\n",
    "podcast_episodes_df = df[df['episode_name'].notna()]\n",
    "\n",
    "# drop podcast columns from music tracks data\n",
    "music_tracks_df = music_tracks_df.drop(columns=['ip_addr', 'spotify_episode_uri', 'episode_name', 'episode_show_name'])\n",
    "\n",
    "# drop music track columns podcast data\n",
    "podcast_episodes_df = podcast_episodes_df.drop(columns=['ip_addr', 'track_name', 'artist_name', 'album_name','spotify_track_uri'])\n",
    "\n",
    "# save music tracks data to a separate CSV\n",
    "music_tracks_output_path = './Cleaned_Data/Music_Streaming_History.csv'\n",
    "music_tracks_df.to_csv(music_tracks_output_path, index=False, encoding='utf-8-sig')\n",
    "\n",
    "# save podcast episodes data to a separate CSV\n",
    "podcast_episodes_output_path = './Cleaned_Data/Podcast_Streaming_History.csv'\n",
    "podcast_episodes_df.to_csv(podcast_episodes_output_path, index=False, encoding='utf-8-sig')"
   ]
  }
 ],
 "metadata": {
  "jupytext": {
   "cell_metadata_filter": "-all",
   "main_language": "python",
   "notebook_metadata_filter": "-all"
  },
  "language_info": {
   "name": "python"
  }
 },
 "nbformat": 4,
 "nbformat_minor": 5
}
