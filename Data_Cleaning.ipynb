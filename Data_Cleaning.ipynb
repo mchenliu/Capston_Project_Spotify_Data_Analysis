{
 "cells": [
  {
   "cell_type": "markdown",
   "id": "f8c8ab63",
   "metadata": {},
   "source": [
    "# Exploratory Data Analysis\n",
    "## Goal\n",
    "1.\n",
    "2.\n",
    "## Final Deliverables:\n",
    "1. Create Jupyter Notebookss (showcasing core skills in Python).\n",
    "2. Create a summary page (via README.md) to capture my findings.\n",
    "3. Share this project via GitHub & LinkedIn."
   ]
  },
  {
   "cell_type": "code",
   "execution_count": null,
   "id": "48e2df8a",
   "metadata": {},
   "outputs": [],
   "source": [
    "# import libraries\n",
    "import json\n",
    "import pandas as pd"
   ]
  },
  {
   "cell_type": "code",
   "execution_count": null,
   "id": "866ca029",
   "metadata": {},
   "outputs": [],
   "source": [
    "# list of JSON filr paths\n",
    "file_paths = [\n",
    "    './Raw Data_Spotify Extended Streaming History/Streaming_History_Audio_2020-2021_5.json',\n",
    "    './Raw Data_Spotify Extended Streaming History/Streaming_History_Audio_2020_3.json',\n",
    "    './Raw Data_Spotify Extended Streaming History/Streaming_History_Audio_2020_4.json',\n",
    "    './Raw Data_Spotify Extended Streaming History/Streaming_History_Audio_2021-2022_6.json',\n",
    "    './Raw Data_Spotify Extended Streaming History/Streaming_History_Audio_2022-2023_7.json',\n",
    "    './Raw Data_Spotify Extended Streaming History/Streaming_History_Audio_2023_8.json',\n",
    "    './Raw Data_Spotify Extended Streaming History/Streaming_History_Audio_2023-2024_9.json',\n",
    "    './Raw Data_Spotify Extended Streaming History/Streaming_History_Audio_2018-2019_0.json',\n",
    "    './Raw Data_Spotify Extended Streaming History/Streaming_History_Audio_2019-2020_2.json',\n",
    "    './Raw Data_Spotify Extended Streaming History/Streaming_History_Audio_2019_1.json'\n",
    "]"
   ]
  },
  {
   "cell_type": "code",
   "execution_count": null,
   "id": "eba5ab21",
   "metadata": {},
   "outputs": [],
   "source": [
    "try: \n",
    "    # Load the JSON data from file using UTF-8 encoding\n",
    "    dataframes = [pd.read_json(fp, encoding='utf-8') for fp in file_paths]\n",
    "\n",
    "\n",
    "    #Convert JSON data to a DataFrame\n",
    "    df = pd.concat(dataframes, ignore_index=True)\n",
    "\n",
    "    # Rename columns\n",
    "    df.rename(columns={'ts': 'date_time', 'master_metadata_track_name': 'track_name', 'conn_country' : 'country', 'master_metadata_album_artist_name': 'artist_name', 'master_metadata_album_album_name': 'album_name'}, inplace=True)\n",
    "\n",
    "    # Convert timestamp column to datetime\n",
    "    df['date_time'] = pd.to_datetime(df['date_time'])\n",
    "\n",
    "    # Extract useful time-related columns\n",
    "    df['date'] = df['date_time'].dt.date\n",
    "    #df['hour'] = df['date_time'].dt.hour\n",
    "\n",
    "    #remove playtime is null\n",
    "    df = df[df['ms_played'] > 0]\n",
    "\n",
    "    # Add a new column to convert ms_played to minutes played\n",
    "    df['minutes_played'] = df['ms_played'] / 60000\n",
    "\n",
    "    # Standardize boolean columns (e.g., shuffle)\n",
    "    df['shuffle'] = df['shuffle'].astype(bool)\n",
    "    \n",
    "    # Normalize text columns\n",
    "    df['track_name'] = df['track_name'].str.strip()\n",
    "    df['artist_name'] = df['artist_name'].str.strip()\n",
    "    df['album_name'] = df['album_name'].str.strip()\n",
    "    df['episode_name'] = df['episode_name'].str.strip()\n",
    "    df['episode_show_name'] = df['episode_show_name'].str.strip()\n",
    "\n",
    "    # Filter data into music tracks and podcast episodes\n",
    "    music_tracks_df = df[df['track_name'].notna()]\n",
    "    podcast_episodes_df = df[df['episode_name'].notna()]\n",
    "    \n",
    "    # Drop podcast columns from music tracks data\n",
    "    music_tracks_df = music_tracks_df.drop(columns=['ip_addr', 'spotify_episode_uri', 'episode_name', 'episode_show_name'])\n",
    "\n",
    "    # Drop music track columns podcast data\n",
    "    podcast_episodes_df = podcast_episodes_df.drop(columns=['ip_addr', 'track_name', 'artist_name', 'album_name','spotify_track_uri'])\n",
    "\n",
    "    # Save music tracks data to a separate CSV\n",
    "    music_tracks_output_path = './Cleaned_Data/Music_Streaming_History.csv'\n",
    "    music_tracks_df.to_csv(music_tracks_output_path, index=False, encoding='utf-8-sig')\n",
    "  \n",
    "    # Save podcast episodes data to a separate CSV\n",
    "    podcast_episodes_output_path = './Cleaned_Data/Podcast_Streaming_History.csv'\n",
    "    podcast_episodes_df.to_csv(podcast_episodes_output_path, index=False, encoding='utf-8-sig')"
   ]
  },
  {
   "cell_type": "code",
   "execution_count": null,
   "id": "3df4bf1e",
   "metadata": {},
   "outputs": [],
   "source": [
    "except PermissionError as e:\n",
    "    print(f\"Permission Error: {e}\")\n",
    "except FileNotFoundError as e:\n",
    "    print(f\"File Not Found: {e}\")\n",
    "except UnicodeDecodeError as e:\n",
    "    print(f\"Encoding Error: {e}\")\n",
    "except Exception as e:\n",
    "    print(f\"An unexpected error occurred: {e}\")"
   ]
  }
 ],
 "metadata": {
  "jupytext": {
   "cell_metadata_filter": "-all",
   "main_language": "python",
   "notebook_metadata_filter": "-all"
  },
  "language_info": {
   "name": "python"
  }
 },
 "nbformat": 4,
 "nbformat_minor": 5
}
