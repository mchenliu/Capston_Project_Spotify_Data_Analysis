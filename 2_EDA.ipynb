{
 "cells": [
  {
   "cell_type": "markdown",
   "metadata": {},
   "source": [
    "# Exploratory Data Analysis"
   ]
  },
  {
   "cell_type": "markdown",
   "metadata": {},
   "source": [
    "### Import libraries and load cleaned data"
   ]
  },
  {
   "cell_type": "code",
   "execution_count": null,
   "metadata": {},
   "outputs": [],
   "source": [
    "# import libraries\n",
    "import pandas as pd\n",
    "\n",
    "# load the cleaned data\n",
    "music_tracks_df = pd.read_csv('./Cleaned_Data/Music_Streaming_History.csv')\n",
    "podcast_episodes_df = pd.read_csv('./Cleaned_Data/Podcast_Streaming_History.csv')"
   ]
  },
  {
   "cell_type": "markdown",
   "metadata": {},
   "source": [
    "### Understand data structure and content"
   ]
  },
  {
   "cell_type": "code",
   "execution_count": null,
   "metadata": {},
   "outputs": [],
   "source": [
    "# check the first few rows\n",
    "print(music_tracks_df.head())\n",
    "print(podcast_episodes_df.head())\n",
    "\n",
    "\n",
    "# check column types, null counts and summary stats of numeric columns \n",
    "# music tracks\n",
    "print(music_tracks_df.info()) \n",
    "print(music_tracks_df.describe())  \n",
    "\n",
    "# podcast episodes\n",
    "print(podcast_episodes_df.info())\n",
    "print(podcast_episodes_df.describe())"
   ]
  }
 ],
 "metadata": {
  "kernelspec": {
   "display_name": "Python 3",
   "language": "python",
   "name": "python3"
  },
  "language_info": {
   "name": "python",
   "version": "3.13.1"
  }
 },
 "nbformat": 4,
 "nbformat_minor": 2
}
