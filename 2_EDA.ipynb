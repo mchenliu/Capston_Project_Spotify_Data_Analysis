{
 "cells": [
  {
   "cell_type": "markdown",
   "metadata": {},
   "source": [
    "# Exploratory Data Analysis"
   ]
  },
  {
   "cell_type": "markdown",
   "metadata": {},
   "source": [
    "### EDA with Data Summary\n",
    "#### 1. Import libraries and load cleaned data"
   ]
  },
  {
   "cell_type": "code",
   "execution_count": 1,
   "metadata": {},
   "outputs": [],
   "source": [
    "# import libraries\n",
    "import pandas as pd\n",
    "\n",
    "# load the cleaned data\n",
    "music_tracks_df = pd.read_csv('./Cleaned_Data/Music_Streaming_History.csv')\n",
    "podcast_episodes_df = pd.read_csv('./Cleaned_Data/Podcast_Streaming_History.csv')"
   ]
  },
  {
   "cell_type": "markdown",
   "metadata": {},
   "source": [
    "#### 2. Understand data structure and content"
   ]
  },
  {
   "cell_type": "code",
   "execution_count": null,
   "metadata": {},
   "outputs": [],
   "source": [
    "# check the first few rows\n",
    "print(music_tracks_df.head())\n",
    "print(podcast_episodes_df.head())\n",
    "\n",
    "\n",
    "# check column types, null counts and summary stats of numeric columns \n",
    "# music tracks\n",
    "print(music_tracks_df.info()) \n",
    "print(music_tracks_df.describe())  \n",
    "\n",
    "# podcast episodes\n",
    "print(podcast_episodes_df.info())\n",
    "print(podcast_episodes_df.describe())"
   ]
  },
  {
   "cell_type": "markdown",
   "metadata": {},
   "source": [
    "#### 3. Check for nulls"
   ]
  },
  {
   "cell_type": "code",
   "execution_count": null,
   "metadata": {},
   "outputs": [],
   "source": [
    "# check for null values in music data\n",
    "print(music_tracks_df.isnull().sum())\n",
    "\n",
    "# check for null values in podcast data\n",
    "print(podcast_episodes_df.isnull().sum())\n",
    "\n",
    "'''\n",
    "The null values are associated with `false` in the `offline` column.\n",
    "Thus the null values are valid.\n",
    "'''"
   ]
  },
  {
   "cell_type": "markdown",
   "metadata": {},
   "source": [
    "### EDA with Visuals\n",
    "#### a. Visualize top 20 most played music artists & podcast shows"
   ]
  },
  {
   "cell_type": "code",
   "execution_count": null,
   "metadata": {},
   "outputs": [],
   "source": [
    "import matplotlib.pyplot as plt\n",
    "import seaborn as sns\n",
    "from matplotlib import rcParams\n",
    "\n",
    "# set font to Microsoft YaHei to show Chinese characters\n",
    "plt.rcParams['font.sans-serif'] = ['Microsoft YaHei']\n",
    "\n",
    "# visualize top 20 most played artists\n",
    "top_artists = music_tracks_df['artist_name'].value_counts().head(20)\n",
    "sns.barplot(x=top_artists.values, y = top_artists.index, palette='Blues_r')\n",
    "plt.title('Top 20 Most Played Artists')\n",
    "plt.xlabel('Number of Plays')\n",
    "plt.ylabel('Artist')\n",
    "plt.show()\n",
    "\n",
    "# visualize top 20 most played shows (podcast)\n",
    "top_show = podcast_episodes_df['show_name'].value_counts().head(20)\n",
    "sns.barplot(x=top_show.values, y = top_show.index, palette='Blues_r')\n",
    "plt.title('Top 20 Most Played Shows')\n",
    "plt.xlabel('Number of Plays')\n",
    "plt.ylabel('Show')\n",
    "plt.show()"
   ]
  },
  {
   "cell_type": "markdown",
   "metadata": {},
   "source": [
    "![music_top_20_artist](/Images/Music_Top_20_Artists.png)\n",
    "![podcast_top_20_shows](/Images/Podcast_Top_20_Shows.png)"
   ]
  }
 ],
 "metadata": {
  "kernelspec": {
   "display_name": "Python 3",
   "language": "python",
   "name": "python3"
  },
  "language_info": {
   "codemirror_mode": {
    "name": "ipython",
    "version": 3
   },
   "file_extension": ".py",
   "mimetype": "text/x-python",
   "name": "python",
   "nbconvert_exporter": "python",
   "pygments_lexer": "ipython3",
   "version": "3.13.1"
  }
 },
 "nbformat": 4,
 "nbformat_minor": 2
}
