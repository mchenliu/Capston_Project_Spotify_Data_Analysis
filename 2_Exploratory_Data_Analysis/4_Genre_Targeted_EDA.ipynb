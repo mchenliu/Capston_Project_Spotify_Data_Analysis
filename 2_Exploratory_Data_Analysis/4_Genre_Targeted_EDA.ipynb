{
 "cells": [
  {
   "cell_type": "markdown",
   "metadata": {},
   "source": [
    "#### 1. Visualize Top 10 Genres"
   ]
  },
  {
   "cell_type": "code",
   "execution_count": null,
   "metadata": {},
   "outputs": [],
   "source": [
    "# count genre occurances\n",
    "genre_count = genre_cleaned['genre'].value_counts()\n",
    "print(genre_count)\n",
    "\n",
    "# identify top 10 genres\n",
    "top_genre = genre_count.head(10)\n",
    "print(top_genre)\n",
    "\n",
    "# select top 10 genres and sort in descending order\n",
    "genre_count_sorted = genre_count.sort_values(ascending=False).head(10)\n",
    "\n",
    "# create bar plot with seaborn\n",
    "sns.set(style='darkgrid')\n",
    "plt.figure(figsize = (30,20))\n",
    "sns.barplot(\n",
    "    x=genre_count_sorted.values,\n",
    "    y=genre_count_sorted.index,\n",
    "    palette= 'Blues_r'\n",
    ")\n",
    "\n",
    "# add title and labels\n",
    "plt.title('Top 10 Genres', fontsize = 40)\n",
    "plt.xlabel('Number of Artists')\n",
    "plt.ylabel(None)\n",
    "plt.show()\n",
    "\n",
    "# create bar chart\n",
    "labels = top_genre.index\n",
    "sizes = top_genre.values\n",
    "\n",
    "plt.figure(figsize=30,20))\n",
    "plt.pie(\n",
    "    sizes,\n",
    "    labels= labels,\n",
    "    # format percentages with 1 decimal place\n",
    "    autopct='%1.1f%%',\n",
    "    # rotate the first slice to start at 140 degrees for better visuals\n",
    "    startangle=140,\n",
    "    colors=sns.color_palette('Blues_r', n_colors=len(labels))\n",
    ")\n",
    "\n",
    "plt.title('Top 10 Genres Distribution', fontsize = 40)\n",
    "plt.ylabel(None)\n",
    "plt.show()"
   ]
  }
 ],
 "metadata": {
  "kernelspec": {
   "display_name": "my_env",
   "language": "python",
   "name": "python3"
  },
  "language_info": {
   "name": "python",
   "version": "3.11.11"
  }
 },
 "nbformat": 4,
 "nbformat_minor": 2
}
