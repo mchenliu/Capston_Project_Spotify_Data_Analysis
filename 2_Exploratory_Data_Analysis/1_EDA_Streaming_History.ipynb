{
 "cells": [
  {
   "cell_type": "markdown",
   "metadata": {},
   "source": [
    "# EDA on Streaming History\n",
    "### General EDA\n",
    "#### 1. Import Libraries and Load Cleaned Data"
   ]
  },
  {
   "cell_type": "code",
   "execution_count": null,
   "metadata": {},
   "outputs": [],
   "source": [
    "# import libraries\n",
    "import pandas as pd\n",
    "\n",
    "# load the cleaned data\n",
    "music_tracks_df = pd.read_csv('./Cleaned_Data/Music_Streaming_History.csv')\n",
    "podcast_episodes_df = pd.read_csv('./Cleaned_Data/Podcast_Streaming_History.csv')"
   ]
  },
  {
   "cell_type": "markdown",
   "metadata": {},
   "source": [
    "#### 2. Understand data structure and content"
   ]
  },
  {
   "cell_type": "code",
   "execution_count": null,
   "metadata": {},
   "outputs": [],
   "source": [
    "# check the first few rows\n",
    "print(music_tracks_df.head())\n",
    "print(podcast_episodes_df.head())\n",
    "\n",
    "\n",
    "# get statistical summary \n",
    "# music tracks\n",
    "print(music_tracks_df.info()) \n",
    "print(music_tracks_df.describe())  \n",
    "\n",
    "# podcast episodes\n",
    "print(podcast_episodes_df.info())\n",
    "print(podcast_episodes_df.describe())"
   ]
  },
  {
   "cell_type": "markdown",
   "metadata": {},
   "source": [
    "#### 3. Check for nulls"
   ]
  },
  {
   "cell_type": "code",
   "execution_count": null,
   "metadata": {},
   "outputs": [],
   "source": [
    "# check for null values in music data\n",
    "print(music_tracks_df.isnull().sum())\n",
    "\n",
    "# check for null values in podcast data\n",
    "print(podcast_episodes_df.isnull().sum())\n",
    "\n",
    "'''\n",
    "The null values are associated with `false` in the `offline` column.\n",
    "Thus the null values are valid.\n",
    "'''"
   ]
  },
  {
   "cell_type": "markdown",
   "metadata": {},
   "source": [
    "#### 4. Identify Outliers"
   ]
  },
  {
   "cell_type": "code",
   "execution_count": null,
   "metadata": {},
   "outputs": [],
   "source": [
    "import seaborn as sns\n",
    "import matplotlib.pyplot as plt\n",
    "# load data\n",
    "music_tracks_df = pd.read_csv('./Cleaned_Data/Music_Streaming_History.csv')\n",
    "podcast_episodes_df = pd.read_csv('./Cleaned_Data/Podcast_Streaming_History.csv')\n",
    "# create boxplot for minutes_played in music streaming dataset\n",
    "plt.figure(figsize=(10,8))\n",
    "# use minutes_played to create the boxplot\n",
    "sns.boxplot(x=music_tracks_df['minutes_played'], palette='Blues_r')\n",
    "plt.title('Boxplot of Minutes Played (Music)', fontsize = 20)\n",
    "plt.xlabel('Minutes Played')\n",
    "plt.show()\n",
    "\n",
    "# create boxplot for minutes_played in podcast streaming dataset\n",
    "plt.figure(figsize=(10,8))\n",
    "# use minutes played to create the boxplot\n",
    "sns.boxplot(x=podcast_episodes_df['minutes_played'], palette = 'Blues_r')\n",
    "plt.title('Boxplot of Minuets Played (Podcast)', fontsize = 20)\n",
    "plt.xlabel('Minuetes Played')\n",
    "plt.show()"
   ]
  },
  {
   "cell_type": "markdown",
   "metadata": {},
   "source": [
    "\n",
    "![music_boxplot](/Images/music_boxplot.png)\n",
    "![podcast_boxplot](/Images/podcast_boxplot.png)  "
   ]
  },
  {
   "cell_type": "markdown",
   "metadata": {},
   "source": [
    "#### Investigate Outliers"
   ]
  },
  {
   "cell_type": "code",
   "execution_count": null,
   "metadata": {},
   "outputs": [],
   "source": [
    "# filter out tracks that has minutes_played greater than 10\n",
    "outliers = music_tracks_df[music_tracks_df['minutes_played'] > 10]\n",
    "print(outliers[['track_name','artist_name','minutes_played','reason_start']])\n",
    "\n",
    "# filter out podcasts that has minutes_played greater than 50\n",
    "outliers = podcast_episodes_df[podcast_episodes_df['minutes_played'] > 50]\n",
    "print(outliers[['show_name','minutes_played']])"
   ]
  },
  {
   "cell_type": "markdown",
   "metadata": {},
   "source": [
    "### EDA with Visuals\n",
    "#### a. Visualize top 20 most played music artists & podcast shows"
   ]
  },
  {
   "cell_type": "code",
   "execution_count": null,
   "metadata": {},
   "outputs": [],
   "source": [
    "import matplotlib.pyplot as plt\n",
    "import seaborn as sns\n",
    "from matplotlib import rcParams\n",
    "\n",
    "# set font to Microsoft YaHei to show Chinese characters\n",
    "plt.rcParams['font.sans-serif'] = ['Microsoft YaHei']\n",
    "\n",
    "# visualize top 20 most played artists\n",
    "top_artists = music_tracks_df['artist_name'].value_counts().head(20)\n",
    "sns.barplot(x=top_artists.values, y = top_artists.index, palette='Blues_r')\n",
    "plt.title('Top 20 Most Played Artists', fontsize = 20)\n",
    "plt.xlabel('Number of Plays')\n",
    "plt.ylabel(None)\n",
    "plt.show()\n",
    "\n",
    "# visualize top 20 most played shows (podcast)\n",
    "top_show = podcast_episodes_df['show_name'].value_counts().head(20)\n",
    "# adjust width and height\n",
    "plt.figure(figsize=(10, 8))  \n",
    "sns.barplot(x=top_show.values, y = top_show.index, palette='Blues_r')\n",
    "plt.title('Top 20 Most Played Shows', fontsize = 20)\n",
    "plt.xlabel('Number of Plays')\n",
    "plt.ylabel(None)\n",
    "# ensure everything fits properly\n",
    "plt.tight_layout()\n",
    "plt.show()"
   ]
  },
  {
   "cell_type": "markdown",
   "metadata": {},
   "source": [
    "![top_20_most_played_artists](/Images/top_20_played_artists.png)\n",
    "![top_20_most_played_podcasts](/Images/top_20_played_shows.png)"
   ]
  },
  {
   "cell_type": "markdown",
   "metadata": {},
   "source": [
    "#### b. Visualize Listening Trends Over Time"
   ]
  },
  {
   "cell_type": "code",
   "execution_count": null,
   "metadata": {},
   "outputs": [],
   "source": [
    "# visualize music listending trends over time\n",
    "# group by month_year\n",
    "music_month_year_trend = music_tracks_df.groupby('month_year').sum()['minutes_played']\n",
    "\n",
    "# plot\n",
    "music_month_year_trend.plot(figsize=(10, 8))\n",
    "plt.title('Total Minutes Played Over Time (Music)', fontsize = 20)\n",
    "plt.xlabel(None)\n",
    "plt.ylabel('Total Minutes Played')\n",
    "plt.grid(True)\n",
    "plt.show()\n",
    "\n",
    "# visualize podcast listending trends over time\n",
    "# group by month_year\n",
    "podcast_month_year_trend = podcast_episodes_df.groupby('month_year').sum()['minutes_played']\n",
    "\n",
    "# plot\n",
    "podcast_month_year_trend.plot(figsize=(10, 8))\n",
    "plt.title('Total Minutes Played Over Time (Podcast)', fontsize = 20)\n",
    "plt.xlabel(None)\n",
    "plt.ylabel('Total Minutes Played')\n",
    "plt.grid(True)\n",
    "plt.show()"
   ]
  },
  {
   "cell_type": "markdown",
   "metadata": {},
   "source": [
    "![music_over_time](/Images/Music_Played_Over_Time.png)\n",
    "![podcast_over_time](/Images/Podcast_Played_Over_Time.png)"
   ]
  },
  {
   "cell_type": "markdown",
   "metadata": {},
   "source": [
    "test test"
   ]
  }
 ],
 "metadata": {
  "kernelspec": {
   "display_name": "Python 3",
   "language": "python",
   "name": "python3"
  },
  "language_info": {
   "codemirror_mode": {
    "name": "ipython",
    "version": 3
   },
   "file_extension": ".py",
   "mimetype": "text/x-python",
   "name": "python",
   "nbconvert_exporter": "python",
   "pygments_lexer": "ipython3",
   "version": "3.13.1"
  }
 },
 "nbformat": 4,
 "nbformat_minor": 2
}
