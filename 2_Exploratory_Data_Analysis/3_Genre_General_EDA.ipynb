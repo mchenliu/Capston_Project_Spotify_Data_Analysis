{
 "cells": [
  {
   "cell_type": "markdown",
   "metadata": {},
   "source": [
    "# EDA on Arist Genres\n",
    "#### 1. Import Libraries and Load Cleaned Data"
   ]
  },
  {
   "cell_type": "code",
   "execution_count": 9,
   "metadata": {},
   "outputs": [],
   "source": [
    "# EDA on genre\n",
    "# import library\n",
    "import pandas as pd\n",
    "from matplotlib import pyplot as plt\n",
    "import seaborn as sns\n",
    "\n",
    "# load the cleaned data\n",
    "artist_genre_df = pd.read_csv('../Cleaned_Data/Artist_Genre_List.csv')"
   ]
  },
  {
   "cell_type": "markdown",
   "metadata": {},
   "source": [
    "#### 2. Clean Data and Understand Data Structure"
   ]
  },
  {
   "cell_type": "code",
   "execution_count": 10,
   "metadata": {},
   "outputs": [
    {
     "name": "stdout",
     "output_type": "stream",
     "text": [
      "    artist_name                              genres  \\\n",
      "0        JJ Lin           mandopop, singaporean pop   \n",
      "1        F.I.R.                            mandopop   \n",
      "2   Joanna Wang  chinese audiophile, jazz, mandopop   \n",
      "3  Shawn Mendes        canadian pop, pop, viral pop   \n",
      "4      Yoga Lin               chinese r&b, mandopop   \n",
      "\n",
      "                           genres_split  \n",
      "0           [mandopop, singaporean pop]  \n",
      "1                            [mandopop]  \n",
      "2  [chinese audiophile, jazz, mandopop]  \n",
      "3        [canadian pop, pop, viral pop]  \n",
      "4               [chinese r&b, mandopop]  \n",
      "<class 'pandas.core.frame.DataFrame'>\n",
      "RangeIndex: 1762 entries, 0 to 1761\n",
      "Data columns (total 3 columns):\n",
      " #   Column        Non-Null Count  Dtype \n",
      "---  ------        --------------  ----- \n",
      " 0   artist_name   1762 non-null   object\n",
      " 1   genres        1762 non-null   object\n",
      " 2   genres_split  1762 non-null   object\n",
      "dtypes: object(3)\n",
      "memory usage: 41.4+ KB\n",
      "None\n",
      "       artist_name    genres genres_split\n",
      "count         1762      1762         1762\n",
      "unique        1762       839          839\n",
      "top            郑莉莉  mandopop   [mandopop]\n",
      "freq             1       268          268\n"
     ]
    }
   ],
   "source": [
    "# split multiple-genres\n",
    "artist_genre_df['genres_split'] = artist_genre_df['genres'].str.split(', ')\n",
    "genre_exploded = artist_genre_df.explode('genres_split').rename(columns={'genres_split':'genre'})\n",
    "\n",
    "# check the first few rows\n",
    "print(artist_genre_df.head())\n",
    "\n",
    "# check column types, null counts and summary stats of numeric columns \n",
    "# music tracks\n",
    "print(artist_genre_df.info()) \n",
    "print(artist_genre_df.describe())"
   ]
  }
 ],
 "metadata": {
  "kernelspec": {
   "display_name": "my_env",
   "language": "python",
   "name": "python3"
  },
  "language_info": {
   "codemirror_mode": {
    "name": "ipython",
    "version": 3
   },
   "file_extension": ".py",
   "mimetype": "text/x-python",
   "name": "python",
   "nbconvert_exporter": "python",
   "pygments_lexer": "ipython3",
   "version": "3.11.11"
  }
 },
 "nbformat": 4,
 "nbformat_minor": 2
}
