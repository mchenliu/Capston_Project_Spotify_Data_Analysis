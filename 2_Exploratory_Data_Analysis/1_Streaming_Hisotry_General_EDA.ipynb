{
 "cells": [
  {
   "cell_type": "markdown",
   "metadata": {},
   "source": [
    "# EDA on Streaming History\n",
    "### General EDA\n",
    "#### 1. Import Libraries and Load Cleaned Data"
   ]
  },
  {
   "cell_type": "code",
   "execution_count": 2,
   "metadata": {},
   "outputs": [],
   "source": [
    "# import libraries\n",
    "import pandas as pd\n",
    "\n",
    "# load the cleaned data\n",
    "music_tracks_df = pd.read_csv('../Cleaned_Data/Music_Streaming_History.csv')\n",
    "podcast_episodes_df = pd.read_csv('../Cleaned_Data/Podcast_Streaming_History.csv')"
   ]
  },
  {
   "cell_type": "markdown",
   "metadata": {},
   "source": [
    "#### 2. Understand data structure and content"
   ]
  },
  {
   "cell_type": "code",
   "execution_count": 3,
   "metadata": {},
   "outputs": [
    {
     "name": "stdout",
     "output_type": "stream",
     "text": [
      "                   date_time                 platform  ms_played country  \\\n",
      "0  2020-08-31 08:28:04+00:00  iOS 13.6.1 (iPhone12,1)     281533      NZ   \n",
      "1  2020-08-31 08:28:04+00:00  iOS 13.6.1 (iPhone12,1)     308546      NZ   \n",
      "2  2020-08-31 08:28:04+00:00  iOS 13.6.1 (iPhone12,1)        831      NZ   \n",
      "3  2020-08-31 08:28:04+00:00  iOS 13.6.1 (iPhone12,1)       1429      NZ   \n",
      "4  2020-08-31 08:28:04+00:00  iOS 13.6.1 (iPhone12,1)        533      NZ   \n",
      "\n",
      "                        track_name   artist_name            album_name  \\\n",
      "0                              醉赤壁        JJ Lin                   JJ陸   \n",
      "1                              月牙灣        F.I.R.                  愛‧歌姬   \n",
      "2                               償還   Joanna Wang                为爱做的一切   \n",
      "3  Youth (feat. Khalid) - Acoustic  Shawn Mendes  Youth (feat. Khalid)   \n",
      "4                               擁有      Yoga Lin                  美妙生活   \n",
      "\n",
      "                      spotify_track_uri reason_start reason_end  ...  skipped  \\\n",
      "0  spotify:track:69lAYqbyHL1A0gctdLd9WV     clickrow  trackdone  ...    False   \n",
      "1  spotify:track:1b5IRT3iraxjHOsKZx93sW       fwdbtn    endplay  ...    False   \n",
      "2  spotify:track:0qtXh8GChAKSBnMQ6deJCc       fwdbtn    backbtn  ...    False   \n",
      "3  spotify:track:732iQF09gPlc32IlBGoXvv       fwdbtn     fwdbtn  ...    False   \n",
      "4  spotify:track:3B0FlqM1DM2eX4cgqXlTfU       fwdbtn    backbtn  ...    False   \n",
      "\n",
      "   offline  offline_timestamp  incognito_mode        date  year  month  day  \\\n",
      "0     True       1.598861e+12           False  2020-08-31  2020      8   31   \n",
      "1    False                NaN           False  2020-08-31  2020      8   31   \n",
      "2     True       1.598861e+12           False  2020-08-31  2020      8   31   \n",
      "3     True       1.598860e+12           False  2020-08-31  2020      8   31   \n",
      "4     True       1.598860e+12           False  2020-08-31  2020      8   31   \n",
      "\n",
      "   month_year minutes_played  \n",
      "0     2020-08       4.692217  \n",
      "1     2020-08       5.142433  \n",
      "2     2020-08       0.013850  \n",
      "3     2020-08       0.023817  \n",
      "4     2020-08       0.008883  \n",
      "\n",
      "[5 rows x 21 columns]\n",
      "                   date_time               platform  ms_played country  \\\n",
      "0  2020-11-27 02:06:45+00:00  iOS 14.2 (iPhone12,1)      47381      NZ   \n",
      "1  2020-11-27 02:07:41+00:00  iOS 14.2 (iPhone12,1)      56469      NZ   \n",
      "2  2020-11-27 02:08:51+00:00  iOS 14.2 (iPhone12,1)      69844      NZ   \n",
      "3  2020-11-27 02:09:47+00:00  iOS 14.2 (iPhone12,1)      54983      NZ   \n",
      "4  2020-11-27 02:11:13+00:00  iOS 14.2 (iPhone12,1)      86191      NZ   \n",
      "\n",
      "                                  episode_name              show_name  \\\n",
      "0  Day 1: How to say one's career in Cantonese  Learn Cantonese Daily   \n",
      "1      Day 42:  \"Can you help me\" in Cantonese  Learn Cantonese Daily   \n",
      "2      Day 43: \"I am very hungry\" in Cantonese  Learn Cantonese Daily   \n",
      "3               Day 44: \"Goodbye\" in Cantonese  Learn Cantonese Daily   \n",
      "4                  Day 45: School in Cantonese  Learn Cantonese Daily   \n",
      "\n",
      "                      spotify_episode_uri reason_start reason_end  shuffle  \\\n",
      "0  spotify:episode:44Fg23Bw4eZjwFP9wwaq4v     clickrow    endplay    False   \n",
      "1  spotify:episode:4CSRzvl326QA22ZNyd2wTe     clickrow  trackdone    False   \n",
      "2  spotify:episode:2nDXTj6MIDiN2DkDYw9b6u    trackdone  trackdone    False   \n",
      "3  spotify:episode:53AzapJD7Jkc56JCa9aOLp    trackdone  trackdone    False   \n",
      "4  spotify:episode:1e6vTZDt85dR8XETThoTvS    trackdone  trackdone    False   \n",
      "\n",
      "   skipped  offline  offline_timestamp  incognito_mode        date  year  \\\n",
      "0    False    False                NaN           False  2020-11-27  2020   \n",
      "1    False    False                NaN           False  2020-11-27  2020   \n",
      "2    False    False                NaN           False  2020-11-27  2020   \n",
      "3    False    False                NaN           False  2020-11-27  2020   \n",
      "4    False    False                NaN           False  2020-11-27  2020   \n",
      "\n",
      "   month  day month_year  minutes_played  \n",
      "0     11   27    2020-11        0.789683  \n",
      "1     11   27    2020-11        0.941150  \n",
      "2     11   27    2020-11        1.164067  \n",
      "3     11   27    2020-11        0.916383  \n",
      "4     11   27    2020-11        1.436517  \n",
      "<class 'pandas.core.frame.DataFrame'>\n",
      "RangeIndex: 177697 entries, 0 to 177696\n",
      "Data columns (total 21 columns):\n",
      " #   Column             Non-Null Count   Dtype  \n",
      "---  ------             --------------   -----  \n",
      " 0   date_time          177697 non-null  object \n",
      " 1   platform           177697 non-null  object \n",
      " 2   ms_played          177697 non-null  int64  \n",
      " 3   country            177697 non-null  object \n",
      " 4   track_name         177697 non-null  object \n",
      " 5   artist_name        177697 non-null  object \n",
      " 6   album_name         177697 non-null  object \n",
      " 7   spotify_track_uri  177697 non-null  object \n",
      " 8   reason_start       177697 non-null  object \n",
      " 9   reason_end         177697 non-null  object \n",
      " 10  shuffle            177697 non-null  bool   \n",
      " 11  skipped            177697 non-null  bool   \n",
      " 12  offline            177697 non-null  bool   \n",
      " 13  offline_timestamp  117235 non-null  float64\n",
      " 14  incognito_mode     177697 non-null  bool   \n",
      " 15  date               177697 non-null  object \n",
      " 16  year               177697 non-null  int64  \n",
      " 17  month              177697 non-null  int64  \n",
      " 18  day                177697 non-null  int64  \n",
      " 19  month_year         177697 non-null  object \n",
      " 20  minutes_played     177697 non-null  float64\n",
      "dtypes: bool(4), float64(2), int64(4), object(11)\n",
      "memory usage: 23.7+ MB\n",
      "None\n",
      "          ms_played  offline_timestamp           year          month  \\\n",
      "count  1.776970e+05       1.172350e+05  177697.000000  177697.000000   \n",
      "mean   1.369048e+05       1.043462e+12    2020.567443       6.500431   \n",
      "std    1.205147e+05       7.459624e+11       1.689145       3.521395   \n",
      "min    3.000000e+00       1.665792e+09    2018.000000       1.000000   \n",
      "25%    1.927000e+03       1.704050e+09    2019.000000       3.000000   \n",
      "50%    1.679860e+05       1.556266e+12    2020.000000       7.000000   \n",
      "75%    2.450260e+05       1.584303e+12    2022.000000      10.000000   \n",
      "max    1.652517e+06       1.665720e+12    2024.000000      12.000000   \n",
      "\n",
      "                 day  minutes_played  \n",
      "count  177697.000000   177697.000000  \n",
      "mean       15.550662        2.281747  \n",
      "std         8.738505        2.008578  \n",
      "min         1.000000        0.000050  \n",
      "25%         8.000000        0.032117  \n",
      "50%        16.000000        2.799767  \n",
      "75%        23.000000        4.083767  \n",
      "max        31.000000       27.541950  \n",
      "<class 'pandas.core.frame.DataFrame'>\n",
      "RangeIndex: 10497 entries, 0 to 10496\n",
      "Data columns (total 20 columns):\n",
      " #   Column               Non-Null Count  Dtype  \n",
      "---  ------               --------------  -----  \n",
      " 0   date_time            10497 non-null  object \n",
      " 1   platform             10497 non-null  object \n",
      " 2   ms_played            10497 non-null  int64  \n",
      " 3   country              10497 non-null  object \n",
      " 4   episode_name         10497 non-null  object \n",
      " 5   show_name            10497 non-null  object \n",
      " 6   spotify_episode_uri  10497 non-null  object \n",
      " 7   reason_start         10497 non-null  object \n",
      " 8   reason_end           10497 non-null  object \n",
      " 9   shuffle              10497 non-null  bool   \n",
      " 10  skipped              10497 non-null  bool   \n",
      " 11  offline              10497 non-null  bool   \n",
      " 12  offline_timestamp    4853 non-null   float64\n",
      " 13  incognito_mode       10497 non-null  bool   \n",
      " 14  date                 10497 non-null  object \n",
      " 15  year                 10497 non-null  int64  \n",
      " 16  month                10497 non-null  int64  \n",
      " 17  day                  10497 non-null  int64  \n",
      " 18  month_year           10497 non-null  object \n",
      " 19  minutes_played       10497 non-null  float64\n",
      "dtypes: bool(4), float64(2), int64(4), object(10)\n",
      "memory usage: 1.3+ MB\n",
      "None\n",
      "          ms_played  offline_timestamp          year         month  \\\n",
      "count  1.049700e+04       4.853000e+03  10497.000000  10497.000000   \n",
      "mean   1.907969e+06       1.093373e+11   2022.296466      5.947032   \n",
      "std    1.909767e+06       4.065607e+11      1.144870      3.313299   \n",
      "min    1.000000e+00       1.665770e+09   2020.000000      1.000000   \n",
      "25%    3.483920e+05       1.683825e+09   2021.000000      3.000000   \n",
      "50%    1.483546e+06       1.705522e+09   2022.000000      5.000000   \n",
      "75%    2.957441e+06       1.713932e+09   2023.000000      9.000000   \n",
      "max    2.022557e+07       1.665735e+12   2024.000000     12.000000   \n",
      "\n",
      "                day  minutes_played  \n",
      "count  10497.000000    10497.000000  \n",
      "mean      15.879394       31.799489  \n",
      "std        8.720318       31.829454  \n",
      "min        1.000000        0.000017  \n",
      "25%        8.000000        5.806533  \n",
      "50%       16.000000       24.725767  \n",
      "75%       24.000000       49.290683  \n",
      "max       31.000000      337.092767  \n"
     ]
    }
   ],
   "source": [
    "# check the first few rows\n",
    "print(music_tracks_df.head())\n",
    "print(podcast_episodes_df.head())\n",
    "\n",
    "\n",
    "# get statistical summary \n",
    "# music tracks\n",
    "print(music_tracks_df.info()) \n",
    "print(music_tracks_df.describe())  \n",
    "\n",
    "# podcast episodes\n",
    "print(podcast_episodes_df.info())\n",
    "print(podcast_episodes_df.describe())"
   ]
  },
  {
   "cell_type": "markdown",
   "metadata": {},
   "source": [
    "#### 3. Check for nulls"
   ]
  },
  {
   "cell_type": "code",
   "execution_count": 4,
   "metadata": {},
   "outputs": [
    {
     "name": "stdout",
     "output_type": "stream",
     "text": [
      "date_time                0\n",
      "platform                 0\n",
      "ms_played                0\n",
      "country                  0\n",
      "track_name               0\n",
      "artist_name              0\n",
      "album_name               0\n",
      "spotify_track_uri        0\n",
      "reason_start             0\n",
      "reason_end               0\n",
      "shuffle                  0\n",
      "skipped                  0\n",
      "offline                  0\n",
      "offline_timestamp    60462\n",
      "incognito_mode           0\n",
      "date                     0\n",
      "year                     0\n",
      "month                    0\n",
      "day                      0\n",
      "month_year               0\n",
      "minutes_played           0\n",
      "dtype: int64\n",
      "date_time                 0\n",
      "platform                  0\n",
      "ms_played                 0\n",
      "country                   0\n",
      "episode_name              0\n",
      "show_name                 0\n",
      "spotify_episode_uri       0\n",
      "reason_start              0\n",
      "reason_end                0\n",
      "shuffle                   0\n",
      "skipped                   0\n",
      "offline                   0\n",
      "offline_timestamp      5644\n",
      "incognito_mode            0\n",
      "date                      0\n",
      "year                      0\n",
      "month                     0\n",
      "day                       0\n",
      "month_year                0\n",
      "minutes_played            0\n",
      "dtype: int64\n"
     ]
    },
    {
     "data": {
      "text/plain": [
       "'\\nThe null values are associated with `false` in the `offline` column.\\nThus the null values are valid.\\n'"
      ]
     },
     "execution_count": 4,
     "metadata": {},
     "output_type": "execute_result"
    }
   ],
   "source": [
    "# check for null values in music data\n",
    "print(music_tracks_df.isnull().sum())\n",
    "\n",
    "# check for null values in podcast data\n",
    "print(podcast_episodes_df.isnull().sum())\n",
    "\n",
    "'''\n",
    "The null values are associated with `false` in the `offline` column.\n",
    "Thus the null values are valid.\n",
    "'''"
   ]
  },
  {
   "cell_type": "markdown",
   "metadata": {},
   "source": [
    "#### 4. Identify Outliers"
   ]
  },
  {
   "cell_type": "markdown",
   "metadata": {},
   "source": [
    "### Music Boxplot"
   ]
  },
  {
   "cell_type": "code",
   "execution_count": 5,
   "metadata": {},
   "outputs": [
    {
     "name": "stderr",
     "output_type": "stream",
     "text": [
      "C:\\Users\\Mei\\AppData\\Local\\Temp\\ipykernel_27252\\4064433901.py:9: FutureWarning: \n",
      "\n",
      "Passing `palette` without assigning `hue` is deprecated and will be removed in v0.14.0. Assign the `y` variable to `hue` and set `legend=False` for the same effect.\n",
      "\n",
      "  sns.boxplot(x=music_tracks_df['minutes_played'], palette='Blues_r')\n"
     ]
    },
    {
     "data": {
      "image/png": "[encoded data removed]",
      "text/plain": [
       "<Figure size 1000x800 with 1 Axes>"
      ]
     },
     "metadata": {},
     "output_type": "display_data"
    }
   ],
   "source": [
    "import seaborn as sns\n",
    "import matplotlib.pyplot as plt\n",
    "# load data\n",
    "music_tracks_df = pd.read_csv('../Cleaned_Data/Music_Streaming_History.csv')\n",
    "podcast_episodes_df = pd.read_csv('../Cleaned_Data/Podcast_Streaming_History.csv')\n",
    "# create boxplot for minutes_played in music streaming dataset\n",
    "plt.figure(figsize=(10,8))\n",
    "# use minutes_played to create the boxplot\n",
    "sns.boxplot(x=music_tracks_df['minutes_played'], palette='Blues_r')\n",
    "plt.title('Boxplot of Minutes Played (Music)', fontsize = 20)\n",
    "plt.xlabel('Minutes Played')\n",
    "plt.show()"
   ]
  },
  {
   "cell_type": "markdown",
   "metadata": {},
   "source": [
    "### Podcast Boxplot"
   ]
  },
  {
   "cell_type": "code",
   "execution_count": 6,
   "metadata": {},
   "outputs": [
    {
     "name": "stderr",
     "output_type": "stream",
     "text": [
      "C:\\Users\\Mei\\AppData\\Local\\Temp\\ipykernel_27252\\1153836806.py:4: FutureWarning: \n",
      "\n",
      "Passing `palette` without assigning `hue` is deprecated and will be removed in v0.14.0. Assign the `y` variable to `hue` and set `legend=False` for the same effect.\n",
      "\n",
      "  sns.boxplot(x=podcast_episodes_df['minutes_played'], palette = 'Blues_r')\n"
     ]
    },
    {
     "data": {
      "image/png": "[encoded data removed]",
      "text/plain": [
       "<Figure size 1000x800 with 1 Axes>"
      ]
     },
     "metadata": {},
     "output_type": "display_data"
    }
   ],
   "source": [
    "# create boxplot for minutes_played in podcast streaming dataset\n",
    "plt.figure(figsize=(10,8))\n",
    "# use minutes played to create the boxplot\n",
    "sns.boxplot(x=podcast_episodes_df['minutes_played'], palette = 'Blues_r')\n",
    "plt.title('Boxplot of Minutes Played (Podcast)', fontsize = 20)\n",
    "plt.xlabel('Minuetes Played')\n",
    "plt.show()"
   ]
  },
  {
   "cell_type": "markdown",
   "metadata": {},
   "source": [
    "#### Investigate Outliers"
   ]
  },
  {
   "cell_type": "code",
   "execution_count": 8,
   "metadata": {},
   "outputs": [
    {
     "name": "stdout",
     "output_type": "stream",
     "text": [
      "                 track_name  artist_name  minutes_played reason_start\n",
      "1720                不為誰而作的歌       JJ Lin       13.096067       fwdbtn\n",
      "2449    心酸+浪費+耳朵+想自由 - Live     Yoga Lin       10.658817       fwdbtn\n",
      "3552        愛情的模樣 Life Live       Mayday       10.308067       fwdbtn\n",
      "12781                   不煽情           許嵩       10.352750    trackdone\n",
      "30913                 Faded  Alan Walker       11.337850      appload\n",
      "...                     ...          ...             ...          ...\n",
      "161130                   牽手    Julie Sue       11.593617    trackdone\n",
      "161488                花又開好了        S.H.E       10.777100      backbtn\n",
      "161515                    姐    Hebe Tien       14.522633     clickrow\n",
      "164459   勁歌金曲2 - 情歌王 - Live       Leo Ku       12.641317    trackdone\n",
      "176153                 灵魂伴侣    Hebe Tien       13.299400    trackdone\n",
      "\n",
      "[162 rows x 4 columns]\n",
      "          show_name  minutes_played\n",
      "94           腦闆想什麼？       50.655633\n",
      "96           腦闆想什麼？       77.188250\n",
      "149          腦闆想什麼？       53.257400\n",
      "157    劉軒的How to人生學       60.853683\n",
      "164    劉軒的How to人生學       60.512700\n",
      "...             ...             ...\n",
      "10480        我在案發現場       64.543600\n",
      "10481      童話裡都是騙人的      166.049717\n",
      "10482    時間的女兒：八卦歷史       77.487683\n",
      "10486    時間的女兒：八卦歷史       85.699383\n",
      "10487    時間的女兒：八卦歷史       53.468050\n",
      "\n",
      "[2577 rows x 2 columns]\n"
     ]
    }
   ],
   "source": [
    "# filter out tracks that has minutes_played greater than 10\n",
    "outliers = music_tracks_df[music_tracks_df['minutes_played'] > 10]\n",
    "print(outliers[['track_name','artist_name','minutes_played','reason_start']])\n",
    "\n",
    "# filter out podcasts that has minutes_played greater than 50\n",
    "outliers = podcast_episodes_df[podcast_episodes_df['minutes_played'] > 50]\n",
    "print(outliers[['show_name','minutes_played']])"
   ]
  }
 ],
 "metadata": {
  "kernelspec": {
   "display_name": "base",
   "language": "python",
   "name": "python3"
  },
  "language_info": {
   "codemirror_mode": {
    "name": "ipython",
    "version": 3
   },
   "file_extension": ".py",
   "mimetype": "text/x-python",
   "name": "python",
   "nbconvert_exporter": "python",
   "pygments_lexer": "ipython3",
   "version": "3.12.3"
  }
 },
 "nbformat": 4,
 "nbformat_minor": 2
}
