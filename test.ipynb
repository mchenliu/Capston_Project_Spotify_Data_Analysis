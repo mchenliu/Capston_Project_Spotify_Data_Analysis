{
 "cells": [
  {
   "cell_type": "code",
   "execution_count": null,
   "metadata": {},
   "outputs": [],
   "source": [
    "import seaborn as sns\n",
    "import matplotlib.pyplot as plt\n",
    "\n",
    "# Group by artist_name and year, summing minutes_played\n",
    "grouped_data = music_tracks_df.groupby(['artist_name', 'year'])['minutes_played'].sum().reset_index()\n",
    "\n",
    "# Identify the top 10 most played artists overall\n",
    "top_10_artists = (\n",
    "    grouped_data.groupby('artist_name')['minutes_played']\n",
    "    .sum()\n",
    "    .sort_values(ascending=False)\n",
    "    .head(10)\n",
    "    .index\n",
    ")\n",
    "\n",
    "# Filter the data for the top 10 artists\n",
    "filtered_data = grouped_data[grouped_data['artist_name'].isin(top_10_artists)]\n",
    "\n",
    "# Create the line chart\n",
    "plt.figure(figsize=(12, 8))\n",
    "sns.lineplot(\n",
    "    data=filtered_data,\n",
    "    x='year',\n",
    "    y='minutes_played',\n",
    "    hue='artist_name',\n",
    "    palette='tab10'  # Automatically assigns different colors\n",
    ")\n",
    "\n",
    "# Add titles and labels\n",
    "plt.title('Top 10 Most Played Artists Over Years', fontsize=16)\n",
    "plt.xlabel('Year', fontsize=12)\n",
    "plt.ylabel('Minutes Played', fontsize=12)\n",
    "plt.xticks(filtered_data['year'].unique())  # Ensure only unique years are shown\n",
    "plt.legend(title='Artist', bbox_to_anchor=(1.05, 1), loc='upper left')  # Move legend outside\n",
    "plt.tight_layout()\n",
    "plt.show()"
   ]
  }
 ],
 "metadata": {
  "kernelspec": {
   "display_name": "base",
   "language": "python",
   "name": "python3"
  },
  "language_info": {
   "codemirror_mode": {
    "name": "ipython",
    "version": 3
   },
   "file_extension": ".py",
   "mimetype": "text/x-python",
   "name": "python",
   "nbconvert_exporter": "python",
   "pygments_lexer": "ipython3",
   "version": "3.12.3"
  }
 },
 "nbformat": 4,
 "nbformat_minor": 2
}
