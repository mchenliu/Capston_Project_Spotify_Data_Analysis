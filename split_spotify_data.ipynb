{
 "cells": [
  {
   "cell_type": "code",
   "execution_count": null,
   "metadata": {},
   "outputs": [],
   "source": [
    "import json\n",
    "import pandas as pd\n",
    "\n",
    "# Corrected path - Make sure to include the filename and extension\n",
    "file_path = 'C:/Users/Mei/Desktop/Streaming_History_Audio_2023-2024_9.json'\n",
    "\n",
    "try:\n",
    "    # Load the JSON data from your file using UTF-8 encoding\n",
    "    with open(file_path, 'r', encoding='utf-8') as f:\n",
    "        data = json.load(f)\n",
    "\n",
    "    # Convert JSON data to a DataFrame\n",
    "    df = pd.DataFrame(data)\n",
    "\n",
    "    # Filter data into music tracks and podcast episodes\n",
    "    music_tracks_df = df[df['master_metadata_track_name'].notna()]\n",
    "    podcast_episodes_df = df[df['episode_name'].notna()]\n",
    "\n",
    "    # Save music tracks data to a separate CSV\n",
    "    music_tracks_output_path = r'C:\\Users\\Mei\\Desktop\\Streaming_History_Music_Tracks.csv'\n",
    "    music_tracks_df.to_csv(music_tracks_output_path, index=False, encoding='utf-8-sig')\n",
    "\n",
    "    # Save podcast episodes data to a separate CSV\n",
    "    podcast_episodes_output_path = r'C:\\Users\\Mei\\Desktop\\Streaming_History_Podcast_Episodes.csv'\n",
    "    podcast_episodes_df.to_csv(podcast_episodes_output_path, index=False, encoding='utf-8-sig')\n",
    "\n",
    "    print(f\"Music tracks CSV saved at: {music_tracks_output_path}\")\n",
    "    print(f\"Podcast episodes CSV saved at: {podcast_episodes_output_path}\")\n",
    "\n",
    "except PermissionError as e:\n",
    "    print(f\"Permission Error: {e}\")\n",
    "except FileNotFoundError as e:\n",
    "    print(f\"File Not Found: {e}\")\n",
    "except UnicodeDecodeError as e:\n",
    "    print(f\"Encoding Error: {e}\")\n",
    "except Exception as e:\n",
    "    print(f\"An unexpected error occurred: {e}\")\n"
   ]
  }
 ],
 "metadata": {
  "kernelspec": {
   "display_name": "Python 3",
   "language": "python",
   "name": "python3"
  },
  "language_info": {
   "name": "python",
   "version": "3.12.5"
  }
 },
 "nbformat": 4,
 "nbformat_minor": 2
}
