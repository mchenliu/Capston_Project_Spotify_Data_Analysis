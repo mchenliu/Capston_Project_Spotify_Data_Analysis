{
 "cells": [
  {
   "cell_type": "markdown",
   "metadata": {},
   "source": [
    "## Create List of Artists"
   ]
  },
  {
   "cell_type": "code",
   "execution_count": null,
   "metadata": {},
   "outputs": [],
   "source": [
    "import pandas as pd\n",
    "\n",
    "# Load the cleaned music tracks data from the VS Code project directory\n",
    "file_path = './Cleaned_Data/Music_Streaming_History.csv'\n",
    "df = pd.read_csv(file_path)\n",
    "\n",
    "# Find unique artists\n",
    "unique_artists = df['artist_name'].dropna().unique()\n",
    "\n",
    "# Convert to a DataFrame for saving or further analysis\n",
    "unique_artists_df = pd.DataFrame(unique_artists, columns=['artist_name'])\n",
    "\n",
    "# Save the unique artists to a new CSV file in the project directory\n",
    "output_path = './Cleaned_Data/Artist_List.csv'\n",
    "unique_artists_df.to_csv(output_path, index=False, encoding='utf-8-sig')\n",
    "\n",
    "print(f\"Unique artists saved to {output_path}\")"
   ]
  }
 ],
 "metadata": {
  "language_info": {
   "name": "python"
  }
 },
 "nbformat": 4,
 "nbformat_minor": 2
}
