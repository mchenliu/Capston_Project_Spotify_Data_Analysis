{
 "cells": [
  {
   "cell_type": "markdown",
   "metadata": {},
   "source": [
    "## Create List of Artists"
   ]
  },
  {
   "cell_type": "code",
   "execution_count": null,
   "metadata": {},
   "outputs": [],
   "source": [
    "import pandas as pd\n",
    "\n",
    "# Load the cleaned music tracks data from the VS Code project directory\n",
    "file_path = './Cleaned_Data/Music_Streaming_History.csv'\n",
    "df = pd.read_csv(file_path)\n",
    "\n",
    "# Find unique artists\n",
    "unique_artists = df['artist_name'].dropna().unique()\n",
    "\n",
    "# Convert to a DataFrame for saving or further analysis\n",
    "unique_artists_df = pd.DataFrame(unique_artists, columns=['artist_name'])\n",
    "\n",
    "# Save the unique artists to a new CSV file in the project directory\n",
    "output_path = './Cleaned_Data/Artist_List.csv'\n",
    "unique_artists_df.to_csv(output_path, index=False, encoding='utf-8-sig')"
   ]
  },
  {
   "cell_type": "markdown",
   "metadata": {},
   "source": [
    "## Find Artist Genres"
   ]
  },
  {
   "cell_type": "code",
   "execution_count": null,
   "metadata": {},
   "outputs": [],
   "source": [
    "# find artist genres\n",
    "from spotipy.oauth2 import SpotifyClientCredentials\n",
    "import spotipy\n",
    "import os\n",
    "from dotenv import load_dotenv"
   ]
  },
  {
   "cell_type": "markdown",
   "metadata": {},
   "source": [
    "#### Store Credentials in .env file"
   ]
  },
  {
   "cell_type": "code",
   "execution_count": null,
   "metadata": {},
   "outputs": [],
   "source": [
    "# enter spotify credentials\n",
    "load_dotenv()\n",
    "client_id = os.getenv(\"SPOTIFY_CLIENT_ID\")\n",
    "client_secret = os.getenv(\"SPOTIFY_CLIENT_SECRET\")"
   ]
  },
  {
   "cell_type": "markdown",
   "metadata": {},
   "source": [
    "#### Access Spotify API"
   ]
  },
  {
   "cell_type": "code",
   "execution_count": null,
   "metadata": {},
   "outputs": [],
   "source": [
    "# authenticate with Spotify\n",
    "client_credentials_manager = SpotifyClientCredentials(client_id=client_id, client_secret=client_secret)\n",
    "sp = spotipy.Spotify(client_credentials_manager=client_credentials_manager)\n"
   ]
  },
  {
   "cell_type": "markdown",
   "metadata": {},
   "source": [
    "#### Loop Through Artist List and Add Genre to List"
   ]
  },
  {
   "cell_type": "code",
   "execution_count": null,
   "metadata": {},
   "outputs": [],
   "source": [
    "# read artist csv\n",
    "input_path = './Cleaned_Data/Artist_List.csv'\n",
    "artist_df = pd.read_csv(input_path)\n",
    "artist_names = artist_df['artist_name'].tolist()\n",
    "\n",
    "# create a list to store results\n",
    "artist_genre =[]\n",
    "\n",
    "# find genres for each artist\n",
    "for artist_name in artist_names:\n",
    "    try:\n",
    "        # search for artist on Spotify\n",
    "        results = sp.search(q=artist_name,type='artist', limit =1)\n",
    "        if results['artists']['items']:\n",
    "            artist = results['artists']['items'][0]\n",
    "            genres = ', '.join(artist['genres']) if artist['genres'] else 'No genres found'\n",
    "        else:\n",
    "            genres = 'Not Found'\n",
    "    except Exception as e:\n",
    "        genres = f'Error: {e}'\n",
    "    artist_genre.append(genres)"
   ]
  },
  {
   "cell_type": "markdown",
   "metadata": {},
   "source": [
    "#### Create new CSV and Save"
   ]
  },
  {
   "cell_type": "code",
   "execution_count": null,
   "metadata": {},
   "outputs": [],
   "source": [
    "# add genres as a new column\n",
    "artist_df['genres'] = artist_genre\n",
    "\n",
    "# save to csv\n",
    "updated_path = './Cleaned_Data/Artist_List_Updated.csv'\n",
    "artist_df.to_csv(updated_path, index= False, encoding= 'utf-8-sig')"
   ]
  }
 ],
 "metadata": {
  "language_info": {
   "name": "python"
  }
 },
 "nbformat": 4,
 "nbformat_minor": 2
}
